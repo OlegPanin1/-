{
 "cells": [
  {
   "cell_type": "markdown",
   "metadata": {},
   "source": [
    "# Принятие решений в бизнесе"
   ]
  },
  {
   "cell_type": "markdown",
   "metadata": {},
   "source": [
    "## Описание проекта\n"
   ]
  },
  {
   "cell_type": "markdown",
   "metadata": {},
   "source": [
    "Я работаю аналитиком в крупном интернет-магазине. Вместе с отделом маркетинга мы подготовили список гипотез для увеличения выручки.\n",
    "Необходимо приоритизировать гипотезы, запустить A/B-тест и проанализировать результаты."
   ]
  },
  {
   "cell_type": "markdown",
   "metadata": {},
   "source": [
    "## Введение\n",
    "\n",
    "**Цели исследования**\n",
    "- Приоритизировать гипотезы;\n",
    "- Запустить A/B-тест;\n",
    "- Проанализировать результаты.\n",
    "\n",
    "\n",
    "**Ход исследования**\n",
    "\n",
    "1. Предобработка данных\n",
    "\n",
    "\n",
    "2. Приоритизация гипотез, путем применения фреймворков ICE и RICE\n",
    "   1. Применить фреймворки ICE и RICE для приоритизации гипотез. Отсортировать их по убыванию приоритета.\n",
    "   2. Проанализировать как изменилась приоритизация гипотез при применении RICE вместо ICE\n",
    "\n",
    "\n",
    "3. Запуск и анализ результатов А/B-теста\n",
    "   1. Построить и проанализировать графики кумулятивной выручки по группам, кумулятивного среднего чека по группам, относительного изменения кумулятивного среднего чека группы B к группе A.\n",
    "   2.  Постройть и проанализировать графики кумулятивного среднего количества заказов на посетителя по группам, относительного изменения кумулятивного среднего количества заказов на посетителя группы B к группе A. Сделать выводы и предположения. \n",
    "   3. Построить и проанализровать точечный график количества заказов по пользователям. Посчитать 95-й и 99-й перцентили количества заказов на пользователя и выбрать границу для определения аномальных пользователей.\n",
    "   4. Построть и проанализировать точечный график стоимостей заказов. Посчитать 95-й и 99-й перцентили стоимости заказов и выбрать границу для определения аномальных заказов.\n",
    "   5.  Посчитать статистическую значимость различий в среднем количестве заказов на посетителя и в среднем чеке заказа между группами по «сырым» и «очищенным» данным. Сделать выводы и предположения.\n",
    "   \n",
    "   \n",
    "4. Принятие решение по результатам теста.\n",
    "   Варианты решений: \n",
    "   1. Остановить тест, зафиксировать победу одной из групп. \n",
    "   2. Остановить тест, зафиксировать отсутствие различий между группами. \n",
    "   3. Продолжить тест.\n",
    "\n",
    "\n",
    "**Описания датасетов**\n",
    "\n",
    "***Данные для первой части***\n",
    "\n",
    "Файл `hypothesis.csv`\n",
    "\n",
    "- Hypothesis — краткое описание гипотезы;\n",
    "- Reach — охват пользователей по 10-балльной шкале;\n",
    "- Impact — влияние на пользователей по 10-балльной шкале;\n",
    "- Confidence — уверенность в гипотезе по 10-балльной шкале;\n",
    "- Efforts — затраты ресурсов на проверку гипотезы по 10-балльной шкале. Чем больше значение Efforts, тем дороже проверка гипотезы.\n",
    "\n",
    "\n",
    "***Данные для второй части***\n",
    "\n",
    "Файл `orders.csv`\n",
    "\n",
    "- transactionId — идентификатор заказа;\n",
    "- visitorId — идентификатор пользователя, совершившего заказ;\n",
    "- date — дата, когда был совершён заказ;\n",
    "- revenue — выручка заказа;\n",
    "- group — группа A/B-теста, в которую попал заказ.\n",
    "- Файл /datasets/visitors.csv. Скачать датасет\n",
    "- date — дата;\n",
    "- group — группа A/B-теста;\n",
    "- visitors — количество пользователей в указанную дату в указанной группе A/B-теста\n"
   ]
  },
  {
   "cell_type": "markdown",
   "metadata": {},
   "source": [
    "### Ознакомление и предобработка данных"
   ]
  },
  {
   "cell_type": "code",
   "execution_count": 1,
   "metadata": {},
   "outputs": [],
   "source": [
    "import numpy as np\n",
    "import pandas as pd\n",
    "import matplotlib.pyplot as plt\n",
    "import seaborn as sns\n",
    "from IPython.display import display\n",
    "import scipy.stats as stats\n",
    "import datetime as dt"
   ]
  },
  {
   "cell_type": "code",
   "execution_count": 2,
   "metadata": {},
   "outputs": [],
   "source": [
    "hypothesis = pd.read_csv('/datasets/hypothesis.csv')\n",
    "orders = pd.read_csv('/datasets/orders.csv')\n",
    "visitors = pd.read_csv('/datasets/visitors.csv')"
   ]
  },
  {
   "cell_type": "markdown",
   "metadata": {},
   "source": [
    "#### Изучаем датасет hypothesis:"
   ]
  },
  {
   "cell_type": "code",
   "execution_count": 3,
   "metadata": {},
   "outputs": [
    {
     "name": "stdout",
     "output_type": "stream",
     "text": [
      "<class 'pandas.core.frame.DataFrame'>\n",
      "RangeIndex: 9 entries, 0 to 8\n",
      "Data columns (total 5 columns):\n",
      " #   Column      Non-Null Count  Dtype \n",
      "---  ------      --------------  ----- \n",
      " 0   Hypothesis  9 non-null      object\n",
      " 1   Reach       9 non-null      int64 \n",
      " 2   Impact      9 non-null      int64 \n",
      " 3   Confidence  9 non-null      int64 \n",
      " 4   Efforts     9 non-null      int64 \n",
      "dtypes: int64(4), object(1)\n",
      "memory usage: 488.0+ bytes\n"
     ]
    }
   ],
   "source": [
    "hypothesis.info()"
   ]
  },
  {
   "cell_type": "code",
   "execution_count": 4,
   "metadata": {},
   "outputs": [
    {
     "data": {
      "text/html": [
       "<div>\n",
       "<style scoped>\n",
       "    .dataframe tbody tr th:only-of-type {\n",
       "        vertical-align: middle;\n",
       "    }\n",
       "\n",
       "    .dataframe tbody tr th {\n",
       "        vertical-align: top;\n",
       "    }\n",
       "\n",
       "    .dataframe thead th {\n",
       "        text-align: right;\n",
       "    }\n",
       "</style>\n",
       "<table border=\"1\" class=\"dataframe\">\n",
       "  <thead>\n",
       "    <tr style=\"text-align: right;\">\n",
       "      <th></th>\n",
       "      <th>Hypothesis</th>\n",
       "      <th>Reach</th>\n",
       "      <th>Impact</th>\n",
       "      <th>Confidence</th>\n",
       "      <th>Efforts</th>\n",
       "    </tr>\n",
       "  </thead>\n",
       "  <tbody>\n",
       "    <tr>\n",
       "      <th>0</th>\n",
       "      <td>Добавить два новых канала привлечения трафика, что позволит привлекать на 30% больше пользователей</td>\n",
       "      <td>3</td>\n",
       "      <td>10</td>\n",
       "      <td>8</td>\n",
       "      <td>6</td>\n",
       "    </tr>\n",
       "    <tr>\n",
       "      <th>1</th>\n",
       "      <td>Запустить собственную службу доставки, что сократит срок доставки заказов</td>\n",
       "      <td>2</td>\n",
       "      <td>5</td>\n",
       "      <td>4</td>\n",
       "      <td>10</td>\n",
       "    </tr>\n",
       "    <tr>\n",
       "      <th>2</th>\n",
       "      <td>Добавить блоки рекомендаций товаров на сайт интернет магазина, чтобы повысить конверсию и средний чек заказа</td>\n",
       "      <td>8</td>\n",
       "      <td>3</td>\n",
       "      <td>7</td>\n",
       "      <td>3</td>\n",
       "    </tr>\n",
       "    <tr>\n",
       "      <th>3</th>\n",
       "      <td>Изменить структура категорий, что увеличит конверсию, т.к. пользователи быстрее найдут нужный товар</td>\n",
       "      <td>8</td>\n",
       "      <td>3</td>\n",
       "      <td>3</td>\n",
       "      <td>8</td>\n",
       "    </tr>\n",
       "    <tr>\n",
       "      <th>4</th>\n",
       "      <td>Изменить цвет фона главной страницы, чтобы увеличить вовлеченность пользователей</td>\n",
       "      <td>3</td>\n",
       "      <td>1</td>\n",
       "      <td>1</td>\n",
       "      <td>1</td>\n",
       "    </tr>\n",
       "  </tbody>\n",
       "</table>\n",
       "</div>"
      ],
      "text/plain": [
       "                                                                                                     Hypothesis  \\\n",
       "0            Добавить два новых канала привлечения трафика, что позволит привлекать на 30% больше пользователей   \n",
       "1                                     Запустить собственную службу доставки, что сократит срок доставки заказов   \n",
       "2  Добавить блоки рекомендаций товаров на сайт интернет магазина, чтобы повысить конверсию и средний чек заказа   \n",
       "3           Изменить структура категорий, что увеличит конверсию, т.к. пользователи быстрее найдут нужный товар   \n",
       "4                              Изменить цвет фона главной страницы, чтобы увеличить вовлеченность пользователей   \n",
       "\n",
       "   Reach  Impact  Confidence  Efforts  \n",
       "0      3      10           8        6  \n",
       "1      2       5           4       10  \n",
       "2      8       3           7        3  \n",
       "3      8       3           3        8  \n",
       "4      3       1           1        1  "
      ]
     },
     "execution_count": 4,
     "metadata": {},
     "output_type": "execute_result"
    }
   ],
   "source": [
    "pd.set_option('display.max_colwidth', None)\n",
    "hypothesis.head()"
   ]
  },
  {
   "cell_type": "markdown",
   "metadata": {},
   "source": [
    "Приводим названия столбцов к змеиному регистру"
   ]
  },
  {
   "cell_type": "code",
   "execution_count": 5,
   "metadata": {},
   "outputs": [],
   "source": [
    "hypothesis.columns = hypothesis.columns.str.lower()"
   ]
  },
  {
   "cell_type": "markdown",
   "metadata": {},
   "source": [
    "Проверяем датасет на дубликаты"
   ]
  },
  {
   "cell_type": "code",
   "execution_count": 6,
   "metadata": {},
   "outputs": [
    {
     "data": {
      "text/html": [
       "<div>\n",
       "<style scoped>\n",
       "    .dataframe tbody tr th:only-of-type {\n",
       "        vertical-align: middle;\n",
       "    }\n",
       "\n",
       "    .dataframe tbody tr th {\n",
       "        vertical-align: top;\n",
       "    }\n",
       "\n",
       "    .dataframe thead th {\n",
       "        text-align: right;\n",
       "    }\n",
       "</style>\n",
       "<table border=\"1\" class=\"dataframe\">\n",
       "  <thead>\n",
       "    <tr style=\"text-align: right;\">\n",
       "      <th></th>\n",
       "      <th>hypothesis</th>\n",
       "      <th>reach</th>\n",
       "      <th>impact</th>\n",
       "      <th>confidence</th>\n",
       "      <th>efforts</th>\n",
       "    </tr>\n",
       "  </thead>\n",
       "  <tbody>\n",
       "  </tbody>\n",
       "</table>\n",
       "</div>"
      ],
      "text/plain": [
       "Empty DataFrame\n",
       "Columns: [hypothesis, reach, impact, confidence, efforts]\n",
       "Index: []"
      ]
     },
     "execution_count": 6,
     "metadata": {},
     "output_type": "execute_result"
    }
   ],
   "source": [
    "hypothesis[hypothesis.duplicated()] "
   ]
  },
  {
   "cell_type": "markdown",
   "metadata": {},
   "source": [
    "Проверяем датасет на пропуски"
   ]
  },
  {
   "cell_type": "code",
   "execution_count": 7,
   "metadata": {
    "scrolled": true
   },
   "outputs": [
    {
     "data": {
      "text/plain": [
       "hypothesis    0\n",
       "reach         0\n",
       "impact        0\n",
       "confidence    0\n",
       "efforts       0\n",
       "dtype: int64"
      ]
     },
     "execution_count": 7,
     "metadata": {},
     "output_type": "execute_result"
    }
   ],
   "source": [
    "hypothesis.isnull().sum() "
   ]
  },
  {
   "cell_type": "markdown",
   "metadata": {},
   "source": [
    "#### Изучаем датасет orders:"
   ]
  },
  {
   "cell_type": "code",
   "execution_count": 8,
   "metadata": {},
   "outputs": [
    {
     "name": "stdout",
     "output_type": "stream",
     "text": [
      "<class 'pandas.core.frame.DataFrame'>\n",
      "RangeIndex: 1197 entries, 0 to 1196\n",
      "Data columns (total 5 columns):\n",
      " #   Column         Non-Null Count  Dtype \n",
      "---  ------         --------------  ----- \n",
      " 0   transactionId  1197 non-null   int64 \n",
      " 1   visitorId      1197 non-null   int64 \n",
      " 2   date           1197 non-null   object\n",
      " 3   revenue        1197 non-null   int64 \n",
      " 4   group          1197 non-null   object\n",
      "dtypes: int64(3), object(2)\n",
      "memory usage: 46.9+ KB\n"
     ]
    }
   ],
   "source": [
    "orders.info()"
   ]
  },
  {
   "cell_type": "code",
   "execution_count": 9,
   "metadata": {},
   "outputs": [
    {
     "data": {
      "text/html": [
       "<div>\n",
       "<style scoped>\n",
       "    .dataframe tbody tr th:only-of-type {\n",
       "        vertical-align: middle;\n",
       "    }\n",
       "\n",
       "    .dataframe tbody tr th {\n",
       "        vertical-align: top;\n",
       "    }\n",
       "\n",
       "    .dataframe thead th {\n",
       "        text-align: right;\n",
       "    }\n",
       "</style>\n",
       "<table border=\"1\" class=\"dataframe\">\n",
       "  <thead>\n",
       "    <tr style=\"text-align: right;\">\n",
       "      <th></th>\n",
       "      <th>transactionId</th>\n",
       "      <th>visitorId</th>\n",
       "      <th>date</th>\n",
       "      <th>revenue</th>\n",
       "      <th>group</th>\n",
       "    </tr>\n",
       "  </thead>\n",
       "  <tbody>\n",
       "    <tr>\n",
       "      <th>0</th>\n",
       "      <td>3667963787</td>\n",
       "      <td>3312258926</td>\n",
       "      <td>2019-08-15</td>\n",
       "      <td>1650</td>\n",
       "      <td>B</td>\n",
       "    </tr>\n",
       "    <tr>\n",
       "      <th>1</th>\n",
       "      <td>2804400009</td>\n",
       "      <td>3642806036</td>\n",
       "      <td>2019-08-15</td>\n",
       "      <td>730</td>\n",
       "      <td>B</td>\n",
       "    </tr>\n",
       "    <tr>\n",
       "      <th>2</th>\n",
       "      <td>2961555356</td>\n",
       "      <td>4069496402</td>\n",
       "      <td>2019-08-15</td>\n",
       "      <td>400</td>\n",
       "      <td>A</td>\n",
       "    </tr>\n",
       "    <tr>\n",
       "      <th>3</th>\n",
       "      <td>3797467345</td>\n",
       "      <td>1196621759</td>\n",
       "      <td>2019-08-15</td>\n",
       "      <td>9759</td>\n",
       "      <td>B</td>\n",
       "    </tr>\n",
       "    <tr>\n",
       "      <th>4</th>\n",
       "      <td>2282983706</td>\n",
       "      <td>2322279887</td>\n",
       "      <td>2019-08-15</td>\n",
       "      <td>2308</td>\n",
       "      <td>B</td>\n",
       "    </tr>\n",
       "  </tbody>\n",
       "</table>\n",
       "</div>"
      ],
      "text/plain": [
       "   transactionId   visitorId        date  revenue group\n",
       "0     3667963787  3312258926  2019-08-15     1650     B\n",
       "1     2804400009  3642806036  2019-08-15      730     B\n",
       "2     2961555356  4069496402  2019-08-15      400     A\n",
       "3     3797467345  1196621759  2019-08-15     9759     B\n",
       "4     2282983706  2322279887  2019-08-15     2308     B"
      ]
     },
     "execution_count": 9,
     "metadata": {},
     "output_type": "execute_result"
    }
   ],
   "source": [
    "orders.head()"
   ]
  },
  {
   "cell_type": "markdown",
   "metadata": {},
   "source": [
    "Проверяем датасет на дубликаты"
   ]
  },
  {
   "cell_type": "code",
   "execution_count": 10,
   "metadata": {},
   "outputs": [
    {
     "data": {
      "text/html": [
       "<div>\n",
       "<style scoped>\n",
       "    .dataframe tbody tr th:only-of-type {\n",
       "        vertical-align: middle;\n",
       "    }\n",
       "\n",
       "    .dataframe tbody tr th {\n",
       "        vertical-align: top;\n",
       "    }\n",
       "\n",
       "    .dataframe thead th {\n",
       "        text-align: right;\n",
       "    }\n",
       "</style>\n",
       "<table border=\"1\" class=\"dataframe\">\n",
       "  <thead>\n",
       "    <tr style=\"text-align: right;\">\n",
       "      <th></th>\n",
       "      <th>transactionId</th>\n",
       "      <th>visitorId</th>\n",
       "      <th>date</th>\n",
       "      <th>revenue</th>\n",
       "      <th>group</th>\n",
       "    </tr>\n",
       "  </thead>\n",
       "  <tbody>\n",
       "  </tbody>\n",
       "</table>\n",
       "</div>"
      ],
      "text/plain": [
       "Empty DataFrame\n",
       "Columns: [transactionId, visitorId, date, revenue, group]\n",
       "Index: []"
      ]
     },
     "execution_count": 10,
     "metadata": {},
     "output_type": "execute_result"
    }
   ],
   "source": [
    "orders[orders.duplicated()] "
   ]
  },
  {
   "cell_type": "markdown",
   "metadata": {},
   "source": [
    "Проверяем датасет на пропуски"
   ]
  },
  {
   "cell_type": "code",
   "execution_count": 11,
   "metadata": {},
   "outputs": [
    {
     "data": {
      "text/plain": [
       "transactionId    0\n",
       "visitorId        0\n",
       "date             0\n",
       "revenue          0\n",
       "group            0\n",
       "dtype: int64"
      ]
     },
     "execution_count": 11,
     "metadata": {},
     "output_type": "execute_result"
    }
   ],
   "source": [
    "orders.isnull().sum()"
   ]
  },
  {
   "cell_type": "markdown",
   "metadata": {},
   "source": [
    "Приводим дату к нужному формату:"
   ]
  },
  {
   "cell_type": "code",
   "execution_count": 12,
   "metadata": {},
   "outputs": [],
   "source": [
    "orders[\"date\"] = orders[\"date\"].map(lambda x: dt.datetime.strptime(x, '%Y-%m-%d'))"
   ]
  },
  {
   "cell_type": "markdown",
   "metadata": {},
   "source": [
    "#### Изучаем датасет visitors:"
   ]
  },
  {
   "cell_type": "code",
   "execution_count": 13,
   "metadata": {},
   "outputs": [
    {
     "name": "stdout",
     "output_type": "stream",
     "text": [
      "<class 'pandas.core.frame.DataFrame'>\n",
      "RangeIndex: 62 entries, 0 to 61\n",
      "Data columns (total 3 columns):\n",
      " #   Column    Non-Null Count  Dtype \n",
      "---  ------    --------------  ----- \n",
      " 0   date      62 non-null     object\n",
      " 1   group     62 non-null     object\n",
      " 2   visitors  62 non-null     int64 \n",
      "dtypes: int64(1), object(2)\n",
      "memory usage: 1.6+ KB\n"
     ]
    }
   ],
   "source": [
    "visitors.info()"
   ]
  },
  {
   "cell_type": "code",
   "execution_count": 14,
   "metadata": {},
   "outputs": [
    {
     "data": {
      "text/html": [
       "<div>\n",
       "<style scoped>\n",
       "    .dataframe tbody tr th:only-of-type {\n",
       "        vertical-align: middle;\n",
       "    }\n",
       "\n",
       "    .dataframe tbody tr th {\n",
       "        vertical-align: top;\n",
       "    }\n",
       "\n",
       "    .dataframe thead th {\n",
       "        text-align: right;\n",
       "    }\n",
       "</style>\n",
       "<table border=\"1\" class=\"dataframe\">\n",
       "  <thead>\n",
       "    <tr style=\"text-align: right;\">\n",
       "      <th></th>\n",
       "      <th>date</th>\n",
       "      <th>group</th>\n",
       "      <th>visitors</th>\n",
       "    </tr>\n",
       "  </thead>\n",
       "  <tbody>\n",
       "    <tr>\n",
       "      <th>0</th>\n",
       "      <td>2019-08-01</td>\n",
       "      <td>A</td>\n",
       "      <td>719</td>\n",
       "    </tr>\n",
       "    <tr>\n",
       "      <th>1</th>\n",
       "      <td>2019-08-02</td>\n",
       "      <td>A</td>\n",
       "      <td>619</td>\n",
       "    </tr>\n",
       "    <tr>\n",
       "      <th>2</th>\n",
       "      <td>2019-08-03</td>\n",
       "      <td>A</td>\n",
       "      <td>507</td>\n",
       "    </tr>\n",
       "    <tr>\n",
       "      <th>3</th>\n",
       "      <td>2019-08-04</td>\n",
       "      <td>A</td>\n",
       "      <td>717</td>\n",
       "    </tr>\n",
       "    <tr>\n",
       "      <th>4</th>\n",
       "      <td>2019-08-05</td>\n",
       "      <td>A</td>\n",
       "      <td>756</td>\n",
       "    </tr>\n",
       "  </tbody>\n",
       "</table>\n",
       "</div>"
      ],
      "text/plain": [
       "         date group  visitors\n",
       "0  2019-08-01     A       719\n",
       "1  2019-08-02     A       619\n",
       "2  2019-08-03     A       507\n",
       "3  2019-08-04     A       717\n",
       "4  2019-08-05     A       756"
      ]
     },
     "execution_count": 14,
     "metadata": {},
     "output_type": "execute_result"
    }
   ],
   "source": [
    "visitors.head()"
   ]
  },
  {
   "cell_type": "markdown",
   "metadata": {},
   "source": [
    "Проверяем датасет на дубликаты"
   ]
  },
  {
   "cell_type": "code",
   "execution_count": 15,
   "metadata": {},
   "outputs": [
    {
     "data": {
      "text/html": [
       "<div>\n",
       "<style scoped>\n",
       "    .dataframe tbody tr th:only-of-type {\n",
       "        vertical-align: middle;\n",
       "    }\n",
       "\n",
       "    .dataframe tbody tr th {\n",
       "        vertical-align: top;\n",
       "    }\n",
       "\n",
       "    .dataframe thead th {\n",
       "        text-align: right;\n",
       "    }\n",
       "</style>\n",
       "<table border=\"1\" class=\"dataframe\">\n",
       "  <thead>\n",
       "    <tr style=\"text-align: right;\">\n",
       "      <th></th>\n",
       "      <th>date</th>\n",
       "      <th>group</th>\n",
       "      <th>visitors</th>\n",
       "    </tr>\n",
       "  </thead>\n",
       "  <tbody>\n",
       "  </tbody>\n",
       "</table>\n",
       "</div>"
      ],
      "text/plain": [
       "Empty DataFrame\n",
       "Columns: [date, group, visitors]\n",
       "Index: []"
      ]
     },
     "execution_count": 15,
     "metadata": {},
     "output_type": "execute_result"
    }
   ],
   "source": [
    "visitors[visitors.duplicated()]"
   ]
  },
  {
   "cell_type": "markdown",
   "metadata": {},
   "source": [
    "Проверяем датасет на пропуски"
   ]
  },
  {
   "cell_type": "code",
   "execution_count": 16,
   "metadata": {},
   "outputs": [
    {
     "data": {
      "text/plain": [
       "date        0\n",
       "group       0\n",
       "visitors    0\n",
       "dtype: int64"
      ]
     },
     "execution_count": 16,
     "metadata": {},
     "output_type": "execute_result"
    }
   ],
   "source": [
    "visitors.isnull().sum()"
   ]
  },
  {
   "cell_type": "markdown",
   "metadata": {},
   "source": [
    "Приводим дату к нужному формату"
   ]
  },
  {
   "cell_type": "code",
   "execution_count": 17,
   "metadata": {},
   "outputs": [],
   "source": [
    "visitors[\"date\"] = visitors[\"date\"].map(lambda x: dt.datetime.strptime(x, '%Y-%m-%d'))"
   ]
  },
  {
   "cell_type": "markdown",
   "metadata": {},
   "source": [
    "#### Изучим какое количество групп в А/В-тесте:\n"
   ]
  },
  {
   "cell_type": "code",
   "execution_count": 18,
   "metadata": {},
   "outputs": [
    {
     "data": {
      "text/plain": [
       "array(['A', 'B'], dtype=object)"
      ]
     },
     "execution_count": 18,
     "metadata": {},
     "output_type": "execute_result"
    }
   ],
   "source": [
    "visitors['group'].unique()"
   ]
  },
  {
   "cell_type": "markdown",
   "metadata": {},
   "source": [
    "#### Изучим даты начала и окончания теста"
   ]
  },
  {
   "cell_type": "code",
   "execution_count": 19,
   "metadata": {},
   "outputs": [
    {
     "name": "stdout",
     "output_type": "stream",
     "text": [
      "Дата начала теста: 2019-08-01 00:00:00\n",
      "Дата окончания теста: 2019-08-31 00:00:00\n"
     ]
    }
   ],
   "source": [
    "print('Дата начала теста:', visitors['date'].min())\n",
    "print('Дата окончания теста:', visitors['date'].max())"
   ]
  },
  {
   "cell_type": "markdown",
   "metadata": {},
   "source": [
    "#### Изучим не попадают ли какие-то пользователи в обе группы:\n",
    "\n"
   ]
  },
  {
   "cell_type": "code",
   "execution_count": 20,
   "metadata": {},
   "outputs": [
    {
     "name": "stdout",
     "output_type": "stream",
     "text": [
      "Уникальных пользователей в группе А: 503\n",
      "Уникальных пользователей в группе B: 586\n",
      "Уникальных пользователей: 1031\n"
     ]
    }
   ],
   "source": [
    "print('Уникальных пользователей в группе А:', orders[orders['group'] == 'A']['visitorId'].nunique())\n",
    "print('Уникальных пользователей в группе B:', orders[orders['group'] == 'B']['visitorId'].nunique())\n",
    "print('Уникальных пользователей:', orders['visitorId'].nunique())"
   ]
  },
  {
   "cell_type": "code",
   "execution_count": 21,
   "metadata": {},
   "outputs": [
    {
     "name": "stdout",
     "output_type": "stream",
     "text": [
      "Пользователи в обоих группах: 58\n"
     ]
    }
   ],
   "source": [
    "print('Пользователи в обоих группах:' ,orders.groupby('visitorId')['group'].nunique().reset_index().query('group > 1')['visitorId'].count())\n"
   ]
  },
  {
   "cell_type": "markdown",
   "metadata": {},
   "source": [
    "Часть пользователей попадает в обе группы. Удалить или оставить их - вопрос открытый, поскольку оба варианта ведут к искажению данных о покупках. В датасете visitors эти id удалить нельзя. Принимаю решение о том, что бы оставить, поскольку удаление искажает данные по конверсии."
   ]
  },
  {
   "cell_type": "markdown",
   "metadata": {},
   "source": [
    "#### Вывод\n",
    "\n",
    "- В А/В тесте 2 группы - А и В;\n",
    "- Дата начала теста: 2019-08-01. Дата окончания теста: 2019-08-31;\n",
    "- Данные приведены в нужный вид и регистр, изменен формат дат;\n",
    "- Часть пользователей попадает в обе группы. Принято решение о том, что бы оставить, поскольку удаление искажает данные по конверсии."
   ]
  },
  {
   "cell_type": "markdown",
   "metadata": {},
   "source": [
    "###  Приоритизация гипотез\n",
    "\n",
    "**Описание фреймворков**\n",
    "- ICE (от англ. impact, confidence, effort / ease «влияние, уверенность, усилия / простота») — один из самых популярных способов приоритизации задач. Рассчитывается по формулам:\n",
    "   - ICE SCORE = (impact * confidence) / efforts;\n",
    "   - ICE SCORE = impact * confidence * ease.\n",
    "   \n",
    "- У этого метода есть модификация RICE (R от англ. reach, «охват»):\n",
    "   - RICE SCORE = (reach * impact * confidence) / efforts.\n",
    "   \n",
    "Фреймворк RICE состоит из четырёх компонент:\n",
    "\n",
    "- Reach — скольких пользователей затронет изменение, которое вы хотите внести;\n",
    "- Impact — насколько сильно изменение повлияет на пользователей, их опыт и удовлетворение от продукта;\n",
    "- Confidence — насколько вы уверены, что это изменение повлияет на пользователей именно так;\n",
    "- Efforts — сколько стоит протестировать эту гипотезу.\n",
    "\n",
    "Как и в случае WSJF, параметры фреймворков ICE и RICE оценивают в удобных шкалах: например, от 0 до 10 или в числах ряда Фибоначчи."
   ]
  },
  {
   "cell_type": "markdown",
   "metadata": {},
   "source": [
    "#### Применим фреймворк ICE для приоритизации гипотез"
   ]
  },
  {
   "cell_type": "code",
   "execution_count": 22,
   "metadata": {},
   "outputs": [
    {
     "data": {
      "text/html": [
       "<div>\n",
       "<style scoped>\n",
       "    .dataframe tbody tr th:only-of-type {\n",
       "        vertical-align: middle;\n",
       "    }\n",
       "\n",
       "    .dataframe tbody tr th {\n",
       "        vertical-align: top;\n",
       "    }\n",
       "\n",
       "    .dataframe thead th {\n",
       "        text-align: right;\n",
       "    }\n",
       "</style>\n",
       "<table border=\"1\" class=\"dataframe\">\n",
       "  <thead>\n",
       "    <tr style=\"text-align: right;\">\n",
       "      <th></th>\n",
       "      <th>hypothesis</th>\n",
       "      <th>ICE</th>\n",
       "    </tr>\n",
       "  </thead>\n",
       "  <tbody>\n",
       "    <tr>\n",
       "      <th>8</th>\n",
       "      <td>Запустить акцию, дающую скидку на товар в день рождения</td>\n",
       "      <td>16.200000</td>\n",
       "    </tr>\n",
       "    <tr>\n",
       "      <th>0</th>\n",
       "      <td>Добавить два новых канала привлечения трафика, что позволит привлекать на 30% больше пользователей</td>\n",
       "      <td>13.333333</td>\n",
       "    </tr>\n",
       "    <tr>\n",
       "      <th>7</th>\n",
       "      <td>Добавить форму подписки на все основные страницы, чтобы собрать базу клиентов для email-рассылок</td>\n",
       "      <td>11.200000</td>\n",
       "    </tr>\n",
       "    <tr>\n",
       "      <th>6</th>\n",
       "      <td>Показать на главной странице баннеры с актуальными акциями и распродажами, чтобы увеличить конверсию</td>\n",
       "      <td>8.000000</td>\n",
       "    </tr>\n",
       "    <tr>\n",
       "      <th>2</th>\n",
       "      <td>Добавить блоки рекомендаций товаров на сайт интернет магазина, чтобы повысить конверсию и средний чек заказа</td>\n",
       "      <td>7.000000</td>\n",
       "    </tr>\n",
       "    <tr>\n",
       "      <th>1</th>\n",
       "      <td>Запустить собственную службу доставки, что сократит срок доставки заказов</td>\n",
       "      <td>2.000000</td>\n",
       "    </tr>\n",
       "    <tr>\n",
       "      <th>5</th>\n",
       "      <td>Добавить страницу отзывов клиентов о магазине, что позволит увеличить количество заказов</td>\n",
       "      <td>1.333333</td>\n",
       "    </tr>\n",
       "    <tr>\n",
       "      <th>3</th>\n",
       "      <td>Изменить структура категорий, что увеличит конверсию, т.к. пользователи быстрее найдут нужный товар</td>\n",
       "      <td>1.125000</td>\n",
       "    </tr>\n",
       "    <tr>\n",
       "      <th>4</th>\n",
       "      <td>Изменить цвет фона главной страницы, чтобы увеличить вовлеченность пользователей</td>\n",
       "      <td>1.000000</td>\n",
       "    </tr>\n",
       "  </tbody>\n",
       "</table>\n",
       "</div>"
      ],
      "text/plain": [
       "                                                                                                     hypothesis  \\\n",
       "8                                                       Запустить акцию, дающую скидку на товар в день рождения   \n",
       "0            Добавить два новых канала привлечения трафика, что позволит привлекать на 30% больше пользователей   \n",
       "7              Добавить форму подписки на все основные страницы, чтобы собрать базу клиентов для email-рассылок   \n",
       "6          Показать на главной странице баннеры с актуальными акциями и распродажами, чтобы увеличить конверсию   \n",
       "2  Добавить блоки рекомендаций товаров на сайт интернет магазина, чтобы повысить конверсию и средний чек заказа   \n",
       "1                                     Запустить собственную службу доставки, что сократит срок доставки заказов   \n",
       "5                      Добавить страницу отзывов клиентов о магазине, что позволит увеличить количество заказов   \n",
       "3           Изменить структура категорий, что увеличит конверсию, т.к. пользователи быстрее найдут нужный товар   \n",
       "4                              Изменить цвет фона главной страницы, чтобы увеличить вовлеченность пользователей   \n",
       "\n",
       "         ICE  \n",
       "8  16.200000  \n",
       "0  13.333333  \n",
       "7  11.200000  \n",
       "6   8.000000  \n",
       "2   7.000000  \n",
       "1   2.000000  \n",
       "5   1.333333  \n",
       "3   1.125000  \n",
       "4   1.000000  "
      ]
     },
     "metadata": {},
     "output_type": "display_data"
    }
   ],
   "source": [
    "pd.set_option('display.max_colwidth', None)\n",
    "\n",
    "hypothesis['ICE'] = (hypothesis['impact'] * hypothesis['confidence']) / hypothesis['efforts']\n",
    "\n",
    "display(hypothesis[['hypothesis', 'ICE']].sort_values('ICE', ascending = False))"
   ]
  },
  {
   "cell_type": "markdown",
   "metadata": {},
   "source": [
    "#### Применим фреймворк RICE для приоритизации гипотез"
   ]
  },
  {
   "cell_type": "code",
   "execution_count": 23,
   "metadata": {},
   "outputs": [
    {
     "data": {
      "text/html": [
       "<div>\n",
       "<style scoped>\n",
       "    .dataframe tbody tr th:only-of-type {\n",
       "        vertical-align: middle;\n",
       "    }\n",
       "\n",
       "    .dataframe tbody tr th {\n",
       "        vertical-align: top;\n",
       "    }\n",
       "\n",
       "    .dataframe thead th {\n",
       "        text-align: right;\n",
       "    }\n",
       "</style>\n",
       "<table border=\"1\" class=\"dataframe\">\n",
       "  <thead>\n",
       "    <tr style=\"text-align: right;\">\n",
       "      <th></th>\n",
       "      <th>hypothesis</th>\n",
       "      <th>RICE</th>\n",
       "    </tr>\n",
       "  </thead>\n",
       "  <tbody>\n",
       "    <tr>\n",
       "      <th>7</th>\n",
       "      <td>Добавить форму подписки на все основные страницы, чтобы собрать базу клиентов для email-рассылок</td>\n",
       "      <td>112.0</td>\n",
       "    </tr>\n",
       "    <tr>\n",
       "      <th>2</th>\n",
       "      <td>Добавить блоки рекомендаций товаров на сайт интернет магазина, чтобы повысить конверсию и средний чек заказа</td>\n",
       "      <td>56.0</td>\n",
       "    </tr>\n",
       "    <tr>\n",
       "      <th>0</th>\n",
       "      <td>Добавить два новых канала привлечения трафика, что позволит привлекать на 30% больше пользователей</td>\n",
       "      <td>40.0</td>\n",
       "    </tr>\n",
       "    <tr>\n",
       "      <th>6</th>\n",
       "      <td>Показать на главной странице баннеры с актуальными акциями и распродажами, чтобы увеличить конверсию</td>\n",
       "      <td>40.0</td>\n",
       "    </tr>\n",
       "    <tr>\n",
       "      <th>8</th>\n",
       "      <td>Запустить акцию, дающую скидку на товар в день рождения</td>\n",
       "      <td>16.2</td>\n",
       "    </tr>\n",
       "    <tr>\n",
       "      <th>3</th>\n",
       "      <td>Изменить структура категорий, что увеличит конверсию, т.к. пользователи быстрее найдут нужный товар</td>\n",
       "      <td>9.0</td>\n",
       "    </tr>\n",
       "    <tr>\n",
       "      <th>1</th>\n",
       "      <td>Запустить собственную службу доставки, что сократит срок доставки заказов</td>\n",
       "      <td>4.0</td>\n",
       "    </tr>\n",
       "    <tr>\n",
       "      <th>5</th>\n",
       "      <td>Добавить страницу отзывов клиентов о магазине, что позволит увеличить количество заказов</td>\n",
       "      <td>4.0</td>\n",
       "    </tr>\n",
       "    <tr>\n",
       "      <th>4</th>\n",
       "      <td>Изменить цвет фона главной страницы, чтобы увеличить вовлеченность пользователей</td>\n",
       "      <td>3.0</td>\n",
       "    </tr>\n",
       "  </tbody>\n",
       "</table>\n",
       "</div>"
      ],
      "text/plain": [
       "                                                                                                     hypothesis  \\\n",
       "7              Добавить форму подписки на все основные страницы, чтобы собрать базу клиентов для email-рассылок   \n",
       "2  Добавить блоки рекомендаций товаров на сайт интернет магазина, чтобы повысить конверсию и средний чек заказа   \n",
       "0            Добавить два новых канала привлечения трафика, что позволит привлекать на 30% больше пользователей   \n",
       "6          Показать на главной странице баннеры с актуальными акциями и распродажами, чтобы увеличить конверсию   \n",
       "8                                                       Запустить акцию, дающую скидку на товар в день рождения   \n",
       "3           Изменить структура категорий, что увеличит конверсию, т.к. пользователи быстрее найдут нужный товар   \n",
       "1                                     Запустить собственную службу доставки, что сократит срок доставки заказов   \n",
       "5                      Добавить страницу отзывов клиентов о магазине, что позволит увеличить количество заказов   \n",
       "4                              Изменить цвет фона главной страницы, чтобы увеличить вовлеченность пользователей   \n",
       "\n",
       "    RICE  \n",
       "7  112.0  \n",
       "2   56.0  \n",
       "0   40.0  \n",
       "6   40.0  \n",
       "8   16.2  \n",
       "3    9.0  \n",
       "1    4.0  \n",
       "5    4.0  \n",
       "4    3.0  "
      ]
     },
     "metadata": {},
     "output_type": "display_data"
    }
   ],
   "source": [
    "hypothesis['RICE'] = (hypothesis['reach'] * hypothesis['impact'] * hypothesis['confidence']) / hypothesis['efforts']\n",
    "\n",
    "display(hypothesis[['hypothesis', 'RICE']].sort_values('RICE', ascending = False))"
   ]
  },
  {
   "cell_type": "markdown",
   "metadata": {},
   "source": [
    "#### Выводы\n",
    "\n",
    "- При использовании метода ICE наиболее перспективной оказалась гипотеза 8. Затем идут гипотезы 0, 7, 6, 2\n",
    "- При использовании метода RICE наиболее перспективной оказалась гипотеза 7. Затем идут гипотезы 2, 0, 6, 8\n",
    "\n",
    "- При примении RICE вместо ICE приоритизация изменилась следующим образом: гипотеза 8 заняла последнее место из наиболее значимых. На первое место поднялась гипотеза 7, гипотеза 0 - опустилась на третье место, а гипотеза 2 - поднялась на второе место. Приоритизация значительно изменилась.\n",
    "- Отличие метода RICE состоит в наличии компонента Reach, который позволяет оценить скольких пользователей затронет изменение, которое вы хотите внести"
   ]
  },
  {
   "cell_type": "markdown",
   "metadata": {},
   "source": [
    "### Анализ A/B-теста\n",
    "\n",
    "#### Построим график кумулятивной выручки по группам:"
   ]
  },
  {
   "cell_type": "code",
   "execution_count": 24,
   "metadata": {},
   "outputs": [
    {
     "data": {
      "text/plain": [
       "[]"
      ]
     },
     "execution_count": 24,
     "metadata": {},
     "output_type": "execute_result"
    },
    {
     "data": {
      "image/png": "[encoded data removed]",
      "text/plain": [
       "<Figure size 1080x432 with 1 Axes>"
      ]
     },
     "metadata": {
      "needs_background": "light"
     },
     "output_type": "display_data"
    }
   ],
   "source": [
    "datesGroups = orders[['date', 'group']].drop_duplicates()\n",
    "\n",
    "ordersAggregated = datesGroups.apply(\n",
    "    lambda x: orders[\n",
    "        np.logical_and(\n",
    "            orders['date'] <= x['date'], orders['group'] == x['group']\n",
    "        )\n",
    "    ].agg(\n",
    "        {\n",
    "            'date': 'max',\n",
    "            'group': 'max',\n",
    "            'transactionId': 'nunique',\n",
    "            'visitorId': 'nunique',\n",
    "            'revenue': 'sum',\n",
    "        }\n",
    "    ),\n",
    "    axis=1,\n",
    ").sort_values(by=['date', 'group'])\n",
    "\n",
    "visitorsAggregated = datesGroups.apply(\n",
    "    lambda x: visitors[\n",
    "        np.logical_and(\n",
    "            visitors['date'] <= x['date'], visitors['group'] == x['group']\n",
    "        )\n",
    "    ].agg({'date': 'max', 'group': 'max', 'visitors': 'sum'}),\n",
    "    axis=1,\n",
    ").sort_values(by=['date', 'group'])\n",
    "\n",
    "cumulativeData = ordersAggregated.merge(\n",
    "    visitorsAggregated, left_on=['date', 'group'], right_on=['date', 'group']\n",
    ")\n",
    "cumulativeData.columns = [\n",
    "    'date',\n",
    "    'group',\n",
    "    'orders',\n",
    "    'buyers',\n",
    "    'revenue',\n",
    "    'visitors',\n",
    "]\n",
    "\n",
    "\n",
    "# датафрейм с кумулятивным количеством заказов и кумулятивной выручкой по дням в группе А\n",
    "cumulativeRevenueA = cumulativeData[cumulativeData['group']=='A'][['date','revenue', 'orders']]\n",
    "\n",
    "# датафрейм с кумулятивным количеством заказов и кумулятивной выручкой по дням в группе B\n",
    "cumulativeRevenueB = cumulativeData[cumulativeData['group']=='B'][['date','revenue', 'orders']]\n",
    "\n",
    "plt.figure(figsize=(15, 6))\n",
    "\n",
    "# Строим график выручки группы А\n",
    "plt.plot(cumulativeRevenueA['date'], cumulativeRevenueA['revenue'], label='A')\n",
    "\n",
    "# Строим график выручки группы B\n",
    "plt.plot(cumulativeRevenueB['date'], cumulativeRevenueB['revenue'], label='B')\n",
    "\n",
    "plt.title('График кумулятивной выручки по группам')\n",
    "plt.ylabel('Выручка')\n",
    "plt.xlabel('Дата')\n",
    "plt.grid()\n",
    "plt.legend();\n",
    "plt.xticks(rotation=70)\n",
    "plt.plot()"
   ]
  },
  {
   "cell_type": "markdown",
   "metadata": {},
   "source": [
    "**Вывод**\n",
    "\n",
    "- По графику выручка в группе B растет быстрее и резко увеличивается после 18 августа. \n",
    "- Можно предположить что в этот день пользователи или совершили несколько крупных, или большое количество заказов."
   ]
  },
  {
   "cell_type": "markdown",
   "metadata": {},
   "source": [
    "#### Построим график кумулятивного среднего чека по группам:"
   ]
  },
  {
   "cell_type": "code",
   "execution_count": 25,
   "metadata": {},
   "outputs": [
    {
     "data": {
      "text/plain": [
       "[]"
      ]
     },
     "execution_count": 25,
     "metadata": {},
     "output_type": "execute_result"
    },
    {
     "data": {
      "image/png": "[encoded data removed]",
      "text/plain": [
       "<Figure size 1080x432 with 1 Axes>"
      ]
     },
     "metadata": {
      "needs_background": "light"
     },
     "output_type": "display_data"
    }
   ],
   "source": [
    "plt.figure(figsize=(15, 6))\n",
    "plt.plot(cumulativeRevenueA['date'], cumulativeRevenueA['revenue']/cumulativeRevenueA['orders'], label='A')\n",
    "plt.plot(cumulativeRevenueB['date'], cumulativeRevenueB['revenue']/cumulativeRevenueB['orders'], label='B')\n",
    "\n",
    "plt.title('График кумулятивного среднего чека по группам')\n",
    "plt.ylabel('Кумулятивный средний чек')\n",
    "plt.xlabel('Дата')\n",
    "plt.legend()\n",
    "plt.grid()\n",
    "plt.xticks(rotation=70)\n",
    "plt.plot()"
   ]
  },
  {
   "cell_type": "markdown",
   "metadata": {},
   "source": [
    "**Вывод**\n",
    "\n",
    "- В первой половине графика средний чек для группы В зачастую выше, но с 12.08 по 15.08 средний чек выше для группы А. По графику кумулятивный средний чек в группе B значительно возрастает после 18 августа. "
   ]
  },
  {
   "cell_type": "markdown",
   "metadata": {},
   "source": [
    "Вероятно, что причиной роста на графиках кумулятивной выручки и кумулятивного среднего чека для группы В является крупный заказ. Проверим это предположение:"
   ]
  },
  {
   "cell_type": "code",
   "execution_count": 26,
   "metadata": {},
   "outputs": [
    {
     "data": {
      "text/html": [
       "<div>\n",
       "<style scoped>\n",
       "    .dataframe tbody tr th:only-of-type {\n",
       "        vertical-align: middle;\n",
       "    }\n",
       "\n",
       "    .dataframe tbody tr th {\n",
       "        vertical-align: top;\n",
       "    }\n",
       "\n",
       "    .dataframe thead th {\n",
       "        text-align: right;\n",
       "    }\n",
       "</style>\n",
       "<table border=\"1\" class=\"dataframe\">\n",
       "  <thead>\n",
       "    <tr style=\"text-align: right;\">\n",
       "      <th></th>\n",
       "      <th>transactionId</th>\n",
       "      <th>visitorId</th>\n",
       "      <th>date</th>\n",
       "      <th>revenue</th>\n",
       "      <th>group</th>\n",
       "    </tr>\n",
       "  </thead>\n",
       "  <tbody>\n",
       "    <tr>\n",
       "      <th>425</th>\n",
       "      <td>590470918</td>\n",
       "      <td>1920142716</td>\n",
       "      <td>2019-08-19</td>\n",
       "      <td>1294500</td>\n",
       "      <td>B</td>\n",
       "    </tr>\n",
       "    <tr>\n",
       "      <th>527</th>\n",
       "      <td>1570513684</td>\n",
       "      <td>2837914161</td>\n",
       "      <td>2019-08-19</td>\n",
       "      <td>33405</td>\n",
       "      <td>B</td>\n",
       "    </tr>\n",
       "    <tr>\n",
       "      <th>461</th>\n",
       "      <td>2683113224</td>\n",
       "      <td>154576532</td>\n",
       "      <td>2019-08-19</td>\n",
       "      <td>26550</td>\n",
       "      <td>B</td>\n",
       "    </tr>\n",
       "    <tr>\n",
       "      <th>368</th>\n",
       "      <td>3268879337</td>\n",
       "      <td>2536252163</td>\n",
       "      <td>2019-08-19</td>\n",
       "      <td>20026</td>\n",
       "      <td>B</td>\n",
       "    </tr>\n",
       "    <tr>\n",
       "      <th>463</th>\n",
       "      <td>4170537404</td>\n",
       "      <td>290022471</td>\n",
       "      <td>2019-08-19</td>\n",
       "      <td>16480</td>\n",
       "      <td>B</td>\n",
       "    </tr>\n",
       "  </tbody>\n",
       "</table>\n",
       "</div>"
      ],
      "text/plain": [
       "     transactionId   visitorId       date  revenue group\n",
       "425      590470918  1920142716 2019-08-19  1294500     B\n",
       "527     1570513684  2837914161 2019-08-19    33405     B\n",
       "461     2683113224   154576532 2019-08-19    26550     B\n",
       "368     3268879337  2536252163 2019-08-19    20026     B\n",
       "463     4170537404   290022471 2019-08-19    16480     B"
      ]
     },
     "execution_count": 26,
     "metadata": {},
     "output_type": "execute_result"
    }
   ],
   "source": [
    "orders.query('date ==\"2019-08-19\" and group ==\"B\"').sort_values('revenue', ascending=False).head()"
   ]
  },
  {
   "cell_type": "markdown",
   "metadata": {},
   "source": [
    "Это действительно так. Revenue этого заказа составил 1294500 у.е."
   ]
  },
  {
   "cell_type": "markdown",
   "metadata": {},
   "source": [
    "#### Построим график относительного изменения кумулятивного среднего чека группы B к группе A"
   ]
  },
  {
   "cell_type": "code",
   "execution_count": 27,
   "metadata": {},
   "outputs": [
    {
     "data": {
      "text/plain": [
       "[]"
      ]
     },
     "execution_count": 27,
     "metadata": {},
     "output_type": "execute_result"
    },
    {
     "data": {
      "image/png": "[encoded data removed]",
      "text/plain": [
       "<Figure size 1080x432 with 1 Axes>"
      ]
     },
     "metadata": {
      "needs_background": "light"
     },
     "output_type": "display_data"
    }
   ],
   "source": [
    "# собираем данные в одном датафрейме\n",
    "mergedCumulativeRevenue = cumulativeRevenueA.merge(cumulativeRevenueB, left_on='date', right_on='date', how='left', suffixes=['A', 'B'])\n",
    "\n",
    "plt.figure(figsize=(15, 6))\n",
    "\n",
    "# cтроим отношение средних чеков\n",
    "plt.plot(mergedCumulativeRevenue['date'], (mergedCumulativeRevenue['revenueB']/mergedCumulativeRevenue['ordersB'])/(mergedCumulativeRevenue['revenueA']/mergedCumulativeRevenue['ordersA'])-1)\n",
    "\n",
    "# добавляем ось X\n",
    "plt.axhline(y=0, color='black', linestyle='--')\n",
    "\n",
    "plt.title('График относительного изменения кумулятивного среднего чека')\n",
    "plt.ylabel('Изменение кумулятивного ср. чека')\n",
    "plt.xlabel('Дата')\n",
    "plt.grid()\n",
    "plt.xticks(rotation=70)\n",
    "plt.plot()"
   ]
  },
  {
   "cell_type": "markdown",
   "metadata": {},
   "source": [
    "**Вывод**\n",
    "\n",
    "- Вывод аналогичен предыдущему графику. Ко 2 августу средний чек группы В превысил средний чек группы А. Отмечается снижение к 13 августу и резкий рост к 19 августу."
   ]
  },
  {
   "cell_type": "markdown",
   "metadata": {},
   "source": [
    "#### Построим график кумулятивного среднего количества заказов"
   ]
  },
  {
   "cell_type": "code",
   "execution_count": 28,
   "metadata": {},
   "outputs": [
    {
     "data": {
      "text/plain": [
       "[]"
      ]
     },
     "execution_count": 28,
     "metadata": {},
     "output_type": "execute_result"
    },
    {
     "data": {
      "image/png": "[encoded data removed]",
      "text/plain": [
       "<Figure size 1080x432 with 1 Axes>"
      ]
     },
     "metadata": {
      "needs_background": "light"
     },
     "output_type": "display_data"
    }
   ],
   "source": [
    "cumulativeData['conversion'] = cumulativeData['orders']/cumulativeData['visitors']\n",
    "\n",
    "cumulativeDataA = cumulativeData[cumulativeData['group']=='A']\n",
    "cumulativeDataB = cumulativeData[cumulativeData['group']=='B']\n",
    "\n",
    "plt.figure(figsize=(15, 6))\n",
    "\n",
    "plt.plot(cumulativeDataA['date'], cumulativeDataA['conversion'], label='A')\n",
    "plt.plot(cumulativeDataB['date'], cumulativeDataB['conversion'], label='B')\n",
    "\n",
    "plt.title('График кумулятивного среднего количества заказов')\n",
    "plt.ylabel('Кумулятивное среднее кол-во заказов')\n",
    "plt.xlabel('Дата')\n",
    "plt.legend()\n",
    "plt.grid()\n",
    "plt.xticks(rotation=70)\n",
    "plt.plot()"
   ]
  },
  {
   "cell_type": "markdown",
   "metadata": {},
   "source": [
    "**Вывод**\n",
    "\n",
    "- К 3 августа кумулятивное среднее количество заказов для группы А значительно превысило количество заказов для группы В. После 6 августа метрика для группы В стала значительно выше и оставалась в этом диапазоне\n",
    "- Среднее количество заказов группы B в целом значительно больше A"
   ]
  },
  {
   "cell_type": "markdown",
   "metadata": {},
   "source": [
    "#### Построим график относительного изменения кумулятивного среднего количества заказов на посетителя группы B к группе A"
   ]
  },
  {
   "cell_type": "code",
   "execution_count": 29,
   "metadata": {},
   "outputs": [
    {
     "data": {
      "text/plain": [
       "[]"
      ]
     },
     "execution_count": 29,
     "metadata": {},
     "output_type": "execute_result"
    },
    {
     "data": {
      "image/png": "[encoded data removed]",
      "text/plain": [
       "<Figure size 1080x432 with 1 Axes>"
      ]
     },
     "metadata": {
      "needs_background": "light"
     },
     "output_type": "display_data"
    }
   ],
   "source": [
    "cumulativeData['conversion'] = (\n",
    "    cumulativeData['orders'] / cumulativeData['visitors']\n",
    ")\n",
    "\n",
    "cumulativeDataA = cumulativeData[cumulativeData['group'] == 'A']\n",
    "cumulativeDataB = cumulativeData[cumulativeData['group'] == 'B']\n",
    "\n",
    "plt.figure(figsize=(15, 6))\n",
    "\n",
    "mergedCumulativeConversions = cumulativeDataA[['date','conversion']].merge(cumulativeDataB[['date','conversion']], left_on='date', right_on='date', how='left', suffixes=['A', 'B'])\n",
    "\n",
    "plt.plot(mergedCumulativeConversions['date'], mergedCumulativeConversions['conversionB']/mergedCumulativeConversions['conversionA']-1, label=\"Относительный прирост среднего количества заказов группы B относительно группы A\")\n",
    "plt.legend()\n",
    "\n",
    "plt.axhline(y=0, color='black', linestyle='--')\n",
    "plt.axhline(y=0.20, color='grey', linestyle='--')\n",
    "\n",
    "plt.title('График относительного изменения кумулятивного среднего количества заказов')\n",
    "plt.ylabel('Изменение кумулятивного среднего кол-ва заказов')\n",
    "plt.xlabel('Дата')\n",
    "plt.grid()\n",
    "plt.xticks(rotation=70)\n",
    "plt.plot()"
   ]
  },
  {
   "cell_type": "markdown",
   "metadata": {},
   "source": [
    "**Вывод**\n",
    "\n",
    "- Группа B стабильно лидирует по конверсии с 6 августа - достигала прироста 20% относительно группы А."
   ]
  },
  {
   "cell_type": "markdown",
   "metadata": {},
   "source": [
    "#### Постройте точечный график количества заказов по пользователям"
   ]
  },
  {
   "cell_type": "code",
   "execution_count": 30,
   "metadata": {},
   "outputs": [
    {
     "data": {
      "image/png": "[encoded data removed]",
      "text/plain": [
       "<Figure size 1080x360 with 1 Axes>"
      ]
     },
     "metadata": {
      "needs_background": "light"
     },
     "output_type": "display_data"
    }
   ],
   "source": [
    "ordersByUsers = orders.groupby('visitorId', as_index=False). \\\n",
    "                                                                        agg({'transactionId' : pd.Series.nunique})\n",
    "\n",
    "ordersByUsers.columns = ['user_id','orders']\n",
    "\n",
    "ordersByUsers.sort_values(by='orders',ascending=False).head(10)\n",
    "\n",
    "x_values = pd.Series(range(0,len(ordersByUsers)))\n",
    "\n",
    "plt.figure(figsize=(15,5))\n",
    "plt.grid()\n",
    "plt.title('График количества заказов по пользователям')\n",
    "plt.ylabel('Количество заказов')\n",
    "plt.xlabel('Количество пользователей')\n",
    "plt.scatter(x_values, ordersByUsers['orders'], alpha=0.5) ;"
   ]
  },
  {
   "cell_type": "markdown",
   "metadata": {},
   "source": [
    "**Вывод**\n",
    "\n",
    "- Больше всего пользователей совершили один заказ. Значительно меньше пользователей совершили 2 заказа и гораздо меньше - 3.\n"
   ]
  },
  {
   "cell_type": "markdown",
   "metadata": {},
   "source": [
    "#### Посчитаем 95-й и 99-й перцентили количества заказов на пользователя"
   ]
  },
  {
   "cell_type": "code",
   "execution_count": 31,
   "metadata": {},
   "outputs": [
    {
     "name": "stdout",
     "output_type": "stream",
     "text": [
      "[2. 4.]\n"
     ]
    }
   ],
   "source": [
    "print(np.percentile(ordersByUsers['orders'], [95, 99]))"
   ]
  },
  {
   "cell_type": "markdown",
   "metadata": {},
   "source": [
    "Рассмотрим процентили более детально"
   ]
  },
  {
   "cell_type": "code",
   "execution_count": 32,
   "metadata": {},
   "outputs": [
    {
     "name": "stdout",
     "output_type": "stream",
     "text": [
      "[2. 2. 2. 3. 4.]\n"
     ]
    }
   ],
   "source": [
    "print(np.percentile(ordersByUsers['orders'], [95, 96, 97, 98, 99]))"
   ]
  },
  {
   "cell_type": "markdown",
   "metadata": {},
   "source": [
    "**Вывод**\n",
    "\n",
    "- 95% пользователей совершают 1 заказ\n",
    "- 97% пользователей совершают 1 и 2 заказа. Количество заказов выше можно считать аномалией. "
   ]
  },
  {
   "cell_type": "markdown",
   "metadata": {},
   "source": [
    "#### Построим точечный график стоимостей заказов"
   ]
  },
  {
   "cell_type": "code",
   "execution_count": 33,
   "metadata": {},
   "outputs": [
    {
     "name": "stdout",
     "output_type": "stream",
     "text": [
      "      transactionId   visitorId       date  revenue group\n",
      "425       590470918  1920142716 2019-08-19  1294500     B\n",
      "1196     3936777065  2108080724 2019-08-15   202740     B\n",
      "858       192721366  1316129916 2019-08-27    93940     A\n",
      "1136      666610489  1307669133 2019-08-13    92550     A\n",
      "744      3668308183   888512513 2019-08-27    86620     B\n",
      "682      1216533772  4266935830 2019-08-29    78990     B\n",
      "662      1811671147  4266935830 2019-08-29    78990     A\n",
      "743      3603576309  4133034833 2019-08-09    67990     A\n",
      "1103     1348774318  1164614297 2019-08-12    66350     A\n",
      "1099      316924019   148427295 2019-08-12    65710     A\n"
     ]
    },
    {
     "data": {
      "text/plain": [
       "[]"
      ]
     },
     "execution_count": 33,
     "metadata": {},
     "output_type": "execute_result"
    },
    {
     "data": {
      "image/png": "[encoded data removed]",
      "text/plain": [
       "<Figure size 1080x360 with 1 Axes>"
      ]
     },
     "metadata": {
      "needs_background": "light"
     },
     "output_type": "display_data"
    }
   ],
   "source": [
    "x_values = pd.Series(range(0, len(orders['revenue'])))\n",
    "\n",
    "print(orders.sort_values(by='revenue', ascending=False).head(10))\n",
    "\n",
    "plt.figure(figsize=(15,5))\n",
    "plt.grid()\n",
    "plt.title('График стоимостей заказов')\n",
    "plt.ylabel('Стоимость заказов')\n",
    "plt.xlabel('Количество пользователей')\n",
    "plt.scatter(x_values, orders['revenue']) \n",
    "plt.plot()"
   ]
  },
  {
   "cell_type": "markdown",
   "metadata": {},
   "source": [
    "**Вывод**\n",
    "\n",
    "- Большинство заказов не превышают по стоимости приблизительно 60.000 у.е. Для более точного расчета нужно рассмотреть процентили;\n",
    "- В выборке присутствуют \"большие заказы\" со стоимостью - 1294500 у.е. и 202740 у.е."
   ]
  },
  {
   "cell_type": "markdown",
   "metadata": {},
   "source": [
    "#### Посчитаем 95-й и 99-й перцентили стоимости заказов"
   ]
  },
  {
   "cell_type": "code",
   "execution_count": 34,
   "metadata": {},
   "outputs": [
    {
     "name": "stdout",
     "output_type": "stream",
     "text": [
      "[28000.  58233.2]\n"
     ]
    }
   ],
   "source": [
    "print(np.percentile(orders['revenue'], [95, 99]))"
   ]
  },
  {
   "cell_type": "code",
   "execution_count": 35,
   "metadata": {},
   "outputs": [
    {
     "name": "stdout",
     "output_type": "stream",
     "text": [
      "[28000.  31382.  35485.  44133.2 58233.2]\n"
     ]
    }
   ],
   "source": [
    "print(np.percentile(orders['revenue'], [95, 96, 97, 98, 99]))"
   ]
  },
  {
   "cell_type": "markdown",
   "metadata": {},
   "source": [
    "**Вывод**\n",
    "\n",
    "- 95% заказов не превышают по стоимости 28000 у.е. \n",
    "- 99% заказов не превышают по стоимости 58233.2 у.е. Значения выше можно считать аномалией."
   ]
  },
  {
   "cell_type": "markdown",
   "metadata": {},
   "source": [
    "#### Посчитаем статистическую значимость различий в среднем количестве заказов на посетителя между группами по «сырым» данным\n",
    "\n",
    "Создадим переменные для данных по визитам и заказам:"
   ]
  },
  {
   "cell_type": "code",
   "execution_count": 36,
   "metadata": {},
   "outputs": [],
   "source": [
    "visitorsADaily = visitors[visitors['group'] == 'A'][['date', 'visitors']]\n",
    "visitorsADaily.columns = ['date', 'visitorsPerDateA']\n",
    "\n",
    "visitorsACummulative = visitorsADaily.apply(\n",
    "    lambda x: visitorsADaily[visitorsADaily['date'] <= x['date']].agg(\n",
    "        {'date': 'max', 'visitorsPerDateA': 'sum'}\n",
    "    ),\n",
    "    axis=1,\n",
    ")\n",
    "visitorsACummulative.columns = ['date', 'visitorsCummulativeA']\n",
    "\n",
    "visitorsBDaily = visitors[visitors['group'] == 'B'][['date', 'visitors']]\n",
    "visitorsBDaily.columns = ['date', 'visitorsPerDateB']\n",
    "\n",
    "visitorsBCummulative = visitorsBDaily.apply(\n",
    "    lambda x: visitorsBDaily[visitorsBDaily['date'] <= x['date']].agg(\n",
    "        {'date': 'max', 'visitorsPerDateB': 'sum'}\n",
    "    ),\n",
    "    axis=1,\n",
    ")\n",
    "visitorsBCummulative.columns = ['date', 'visitorsCummulativeB']\n",
    "\n",
    "ordersADaily = (\n",
    "    orders[orders['group'] == 'A'][['date', 'transactionId', 'visitorId', 'revenue']]\n",
    "    .groupby('date', as_index=False)\n",
    "    .agg({'transactionId': pd.Series.nunique, 'revenue': 'sum'})\n",
    ")\n",
    "ordersADaily.columns = ['date', 'ordersPerDateA', 'revenuePerDateA']\n",
    "\n",
    "ordersACummulative = ordersADaily.apply(\n",
    "    lambda x: ordersADaily[ordersADaily['date'] <= x['date']].agg(\n",
    "        {'date': 'max', 'ordersPerDateA': 'sum', 'revenuePerDateA': 'sum'}\n",
    "    ),\n",
    "    axis=1,\n",
    ").sort_values(by=['date'])\n",
    "ordersACummulative.columns = [\n",
    "    'date',\n",
    "    'ordersCummulativeA',\n",
    "    'revenueCummulativeA',\n",
    "]\n",
    "\n",
    "ordersBDaily = (\n",
    "    orders[orders['group'] == 'B'][['date', 'transactionId', 'visitorId', 'revenue']]\n",
    "    .groupby('date', as_index=False)\n",
    "    .agg({'transactionId': pd.Series.nunique, 'revenue': 'sum'})\n",
    ")\n",
    "ordersBDaily.columns = ['date', 'ordersPerDateB', 'revenuePerDateB']\n",
    "\n",
    "ordersBCummulative = ordersBDaily.apply(\n",
    "    lambda x: ordersBDaily[ordersBDaily['date'] <= x['date']].agg(\n",
    "        {'date': 'max', 'ordersPerDateB': 'sum', 'revenuePerDateB': 'sum'}\n",
    "    ),\n",
    "    axis=1,\n",
    ").sort_values(by=['date'])\n",
    "ordersBCummulative.columns = [\n",
    "    'date',\n",
    "    'ordersCummulativeB',\n",
    "    'revenueCummulativeB',\n",
    "]"
   ]
  },
  {
   "cell_type": "markdown",
   "metadata": {},
   "source": [
    "Соберем данные в одну таблицу:"
   ]
  },
  {
   "cell_type": "code",
   "execution_count": 37,
   "metadata": {},
   "outputs": [
    {
     "name": "stdout",
     "output_type": "stream",
     "text": [
      "        date  ordersPerDateA  revenuePerDateA  ordersPerDateB  \\\n",
      "0 2019-08-01              24           148579              21   \n",
      "1 2019-08-02              20            93822              24   \n",
      "2 2019-08-03              24           112473              16   \n",
      "3 2019-08-04              16            70825              17   \n",
      "4 2019-08-05              25           124218              23   \n",
      "\n",
      "   revenuePerDateB  ordersCummulativeA  revenueCummulativeA  \\\n",
      "0           101217                  24               148579   \n",
      "1           165531                  44               242401   \n",
      "2           114248                  68               354874   \n",
      "3           108571                  84               425699   \n",
      "4            92428                 109               549917   \n",
      "\n",
      "   ordersCummulativeB  revenueCummulativeB  visitorsPerDateA  \\\n",
      "0                  21               101217               719   \n",
      "1                  45               266748               619   \n",
      "2                  61               380996               507   \n",
      "3                  78               489567               717   \n",
      "4                 101               581995               756   \n",
      "\n",
      "   visitorsPerDateB  visitorsCummulativeA  visitorsCummulativeB  \n",
      "0               713                   719                   713  \n",
      "1               581                  1338                  1294  \n",
      "2               509                  1845                  1803  \n",
      "3               770                  2562                  2573  \n",
      "4               707                  3318                  3280  \n"
     ]
    }
   ],
   "source": [
    "data = (\n",
    "    ordersADaily.merge(\n",
    "        ordersBDaily, left_on='date', right_on='date', how='left'\n",
    "    )\n",
    "    .merge(ordersACummulative, left_on='date', right_on='date', how='left')\n",
    "    .merge(ordersBCummulative, left_on='date', right_on='date', how='left')\n",
    "    .merge(visitorsADaily, left_on='date', right_on='date', how='left')\n",
    "    .merge(visitorsBDaily, left_on='date', right_on='date', how='left')\n",
    "    .merge(visitorsACummulative, left_on='date', right_on='date', how='left')\n",
    "    .merge(visitorsBCummulative, left_on='date', right_on='date', how='left')\n",
    ")\n",
    "\n",
    "print(data.head(5))"
   ]
  },
  {
   "cell_type": "markdown",
   "metadata": {},
   "source": [
    "Создадим датафреймы для пользователей группы А и группы В:"
   ]
  },
  {
   "cell_type": "code",
   "execution_count": 38,
   "metadata": {},
   "outputs": [],
   "source": [
    "ordersByUsersA = (\n",
    "    orders[orders['group'] == 'A']\n",
    "    .groupby('visitorId', as_index=False)\n",
    "    .agg({'transactionId': pd.Series.nunique})\n",
    ")\n",
    "ordersByUsersA.columns = ['visitorId', 'orders']\n",
    "\n",
    "ordersByUsersB = (\n",
    "    orders[orders['group'] == 'B']\n",
    "    .groupby('visitorId', as_index=False)\n",
    "    .agg({'transactionId': pd.Series.nunique})\n",
    ")\n",
    "ordersByUsersB.columns = ['visitorId', 'orders']\n",
    "\n",
    "sampleA = pd.concat([ordersByUsersA['orders'],pd.Series(0, index=np.arange(data['visitorsPerDateA'].sum() - len(ordersByUsersA['orders'])), name='orders')],axis=0)\n",
    "\n",
    "sampleB = pd.concat([ordersByUsersB['orders'],pd.Series(0, index=np.arange(data['visitorsPerDateB'].sum() - len(ordersByUsersB['orders'])), name='orders')],axis=0)"
   ]
  },
  {
   "cell_type": "markdown",
   "metadata": {},
   "source": [
    "**Проверка гипотез**\n",
    "\n",
    "Задаем значение аlpha = 0.05. Используем критерий Манна — Уитни.\n",
    "\n",
    "- Нулевая гипотеза - статистически значимых различий в среднем количестве заказов на посетителя между группами нет;\n",
    "- Альтернативная гипотеза - статистически значимые различия есть."
   ]
  },
  {
   "cell_type": "code",
   "execution_count": 39,
   "metadata": {},
   "outputs": [
    {
     "name": "stdout",
     "output_type": "stream",
     "text": [
      "alpha = 0.05\n",
      "p-value = 0.017\n",
      "Cтатистическая значимость = 0.138\n"
     ]
    }
   ],
   "source": [
    "print('alpha =',0.05)\n",
    "print('p-value = {0:.3f}'.format(stats.mannwhitneyu(sampleA, sampleB)[1]))\n",
    "print('Cтатистическая значимость = {0:.3f}'.format(sampleB.mean() / sampleA.mean() - 1))"
   ]
  },
  {
   "cell_type": "markdown",
   "metadata": {},
   "source": [
    "**Вывод**\n",
    "\n",
    "- Число alpha = 0.05;\n",
    "- P-value = 0.017, меньше чем число alpha;\n",
    "- Отвергаем нулевую гипотезу об отсутствии статистически значимых различий в среднем количестве заказов на посетителя между группами;\n",
    "- Относительный прирост среднего количества заказов на пользователя для группы В к группе А равен 13.8%. \n"
   ]
  },
  {
   "cell_type": "markdown",
   "metadata": {},
   "source": [
    "#### Посчитаем статистическую значимость различий в среднем чеке заказа между группами по «сырым» данным"
   ]
  },
  {
   "cell_type": "markdown",
   "metadata": {},
   "source": [
    "**Проверка гипотез**\n",
    "\n",
    "Задаем значение аlpha = 0.05. Используем критерий Манна — Уитни.\n",
    "\n",
    "- Нулевая гипотеза - статистически значимых различий в среднем чеке между группами нет;\n",
    "- Альтернативная гипотеза - статистически значимые различия есть."
   ]
  },
  {
   "cell_type": "code",
   "execution_count": 40,
   "metadata": {},
   "outputs": [
    {
     "name": "stdout",
     "output_type": "stream",
     "text": [
      "alpha = 0.05\n",
      "p-value = 0.729\n",
      "Cтатистическая значимость = 0.259\n"
     ]
    }
   ],
   "source": [
    "print('alpha =',0.05)\n",
    "print('p-value = {0:.3f}'.format(stats.mannwhitneyu(orders[orders['group']=='A']['revenue'], orders[orders['group']=='B']['revenue'])[1]))\n",
    "print('Cтатистическая значимость = {0:.3f}'.format(orders[orders['group']=='B']['revenue'].mean()/orders[orders['group']=='A']['revenue'].mean()-1))"
   ]
  },
  {
   "cell_type": "markdown",
   "metadata": {},
   "source": [
    "**Вывод**\n",
    "\n",
    "- Число alpha = 0.05;\n",
    "- P-value = 0.729, больше чем число alpha;\n",
    "- Принимаем нулевую гипотезу об отсутствии статистически значимых различий в среднем чеке между группами;\n",
    "- Средний чек для группы В относительно группы А выше на 25.9%.\n"
   ]
  },
  {
   "cell_type": "markdown",
   "metadata": {},
   "source": [
    "#### Посчитаем статистическую значимость различий в среднем количестве заказов на посетителя между группами по «очищенным» данным"
   ]
  },
  {
   "cell_type": "markdown",
   "metadata": {},
   "source": [
    "Аномальными пользователями являются те, кто совершил более 2 заказов или заказ(ы) на сумму более 58233.2. Применим эти данные при подсчете статистической значимости. Определим аномальных пользователей:"
   ]
  },
  {
   "cell_type": "code",
   "execution_count": 41,
   "metadata": {
    "scrolled": true
   },
   "outputs": [
    {
     "name": "stdout",
     "output_type": "stream",
     "text": [
      "1099    148427295\n",
      "18      199603092\n",
      "23      237748145\n",
      "37      249864742\n",
      "68      457167155\n",
      "Name: visitorId, dtype: int64\n"
     ]
    }
   ],
   "source": [
    "usersWithManyOrders = pd.concat(\n",
    "    [\n",
    "        ordersByUsersA[ordersByUsersA['orders'] > 2]['visitorId'],\n",
    "        ordersByUsersB[ordersByUsersB['orders'] > 2]['visitorId'],\n",
    "    ],\n",
    "    axis=0,\n",
    ")\n",
    "usersWithExpensiveOrders = orders[orders['revenue'] > 58233.2]['visitorId']\n",
    "abnormalUsers = (\n",
    "    pd.concat([usersWithManyOrders, usersWithExpensiveOrders], axis=0)\n",
    "    .drop_duplicates()\n",
    "    .sort_values()\n",
    ")\n",
    "print(abnormalUsers.head(5))\n"
   ]
  },
  {
   "cell_type": "markdown",
   "metadata": {},
   "source": [
    "Удалим аномальных пользователей и очистим данные:"
   ]
  },
  {
   "cell_type": "code",
   "execution_count": 42,
   "metadata": {},
   "outputs": [],
   "source": [
    "sampleAFiltered = pd.concat(\n",
    "    [\n",
    "        ordersByUsersA[\n",
    "            np.logical_not(ordersByUsersA['visitorId'].isin(abnormalUsers))\n",
    "        ]['orders'],\n",
    "        pd.Series(\n",
    "            0,\n",
    "            index=np.arange(\n",
    "                data['visitorsPerDateA'].sum() - len(ordersByUsersA['orders'])\n",
    "            ),\n",
    "            name='orders',\n",
    "        ),\n",
    "    ],\n",
    "    axis=0,\n",
    ")\n",
    "\n",
    "sampleBFiltered = pd.concat(\n",
    "    [\n",
    "        ordersByUsersB[\n",
    "            np.logical_not(ordersByUsersB['visitorId'].isin(abnormalUsers))\n",
    "        ]['orders'],\n",
    "        pd.Series(\n",
    "            0,\n",
    "            index=np.arange(\n",
    "                data['visitorsPerDateB'].sum() - len(ordersByUsersB['orders'])\n",
    "            ),\n",
    "            name='orders',\n",
    "        ),\n",
    "    ],\n",
    "    axis=0,\n",
    ")\n",
    "\n",
    "\n"
   ]
  },
  {
   "cell_type": "markdown",
   "metadata": {},
   "source": [
    "**Проверка гипотез**\n",
    "\n",
    "Задаем значение аlpha = 0.05. Используем критерий Манна — Уитни.\n",
    "\n",
    "- Нулевая гипотеза - статистически значимых различий в среднем количестве заказов на посетителя нет;\n",
    "- Альтернативная гипотеза - статистически значимые различия есть."
   ]
  },
  {
   "cell_type": "code",
   "execution_count": 43,
   "metadata": {},
   "outputs": [
    {
     "name": "stdout",
     "output_type": "stream",
     "text": [
      "alpha = 0.05\n",
      "p-value = 0.010\n",
      "Cтатистическая значимость = 0.174\n"
     ]
    }
   ],
   "source": [
    "print('alpha =',0.05)\n",
    "print('p-value = {0:.3f}'.format(stats.mannwhitneyu(sampleAFiltered, sampleBFiltered)[1]))\n",
    "print('Cтатистическая значимость = {0:.3f}'.format(sampleBFiltered.mean()/sampleAFiltered.mean()-1))"
   ]
  },
  {
   "cell_type": "markdown",
   "metadata": {},
   "source": [
    "**Вывод**\n",
    "\n",
    "- Число alpha = 0.05;\n",
    "- P-value = 0.010, меньше чем число alpha;\n",
    "- Отвергаем нулевую гипотезу об отсутствии статистически значимых различий в среднем количестве заказов на посетителя;\n",
    "- Относительный прирост среднего количества заказов группы В к группе А по очищенным данным равен 17.4%."
   ]
  },
  {
   "cell_type": "markdown",
   "metadata": {},
   "source": [
    "#### Посчитаем статистическую значимость различий в среднем чеке заказа между группами по «очищенным» данным"
   ]
  },
  {
   "cell_type": "markdown",
   "metadata": {},
   "source": [
    "**Проверка гипотез**\n",
    "\n",
    "Задаем значение аlpha = 0.05. Используем критерий Манна — Уитни.\n",
    "\n",
    "- Нулевая гипотеза - статистически значимых различий в среднем чеке заказа между группами по «очищенным» данным нет;\n",
    "- Альтернативная гипотеза - статистически значимые различия есть."
   ]
  },
  {
   "cell_type": "code",
   "execution_count": 44,
   "metadata": {},
   "outputs": [
    {
     "name": "stdout",
     "output_type": "stream",
     "text": [
      "alpha = 0.05\n",
      "p-value = 0.798\n",
      "Cтатистическая значимость = -0.020\n"
     ]
    }
   ],
   "source": [
    "print('alpha =',0.05)\n",
    "\n",
    "print(\n",
    "    'p-value = {0:.3f}'.format(\n",
    "        stats.mannwhitneyu(\n",
    "            orders[\n",
    "                np.logical_and(\n",
    "                    orders['group'] == 'A',\n",
    "                    np.logical_not(orders['visitorId'].isin(abnormalUsers)),\n",
    "                )\n",
    "            ]['revenue'],\n",
    "            orders[\n",
    "                np.logical_and(\n",
    "                    orders['group'] == 'B',\n",
    "                    np.logical_not(orders['visitorId'].isin(abnormalUsers)),\n",
    "                )\n",
    "            ]['revenue'],\n",
    "        )[1]\n",
    "    )\n",
    ")\n",
    "\n",
    "print(\n",
    "    \"Cтатистическая значимость = {0:.3f}\".format(\n",
    "        orders[\n",
    "            np.logical_and(\n",
    "                orders['group'] == 'B',\n",
    "                np.logical_not(orders['visitorId'].isin(abnormalUsers)),\n",
    "            )\n",
    "        ]['revenue'].mean()\n",
    "        / orders[\n",
    "            np.logical_and(\n",
    "                orders['group'] == 'A',\n",
    "                np.logical_not(orders['visitorId'].isin(abnormalUsers)),\n",
    "            )\n",
    "        ]['revenue'].mean()\n",
    "        - 1\n",
    "    )\n",
    ")"
   ]
  },
  {
   "cell_type": "markdown",
   "metadata": {},
   "source": [
    "**Вывод**\n",
    "\n",
    "- Число alpha = 0.05;\n",
    "- P-value = 0.0798, больше чем число alpha;\n",
    "- Принимаем нулевую гипотезу об отсутствии различий в среднем чеке заказа между группами по «очищенным» данным;\n",
    "- Средний чек для группы B ниже на 2%. "
   ]
  },
  {
   "cell_type": "markdown",
   "metadata": {},
   "source": [
    "### Выводы по результатам теста\n",
    "\n",
    "Результаты тестирования:\n",
    "\n",
    "- Относительный прирост среднего количества заказов группы В к группе А по \"сырым\" данным равен 25.9%;\n",
    "- Относительный прирост среднего количества заказов группы В к группе А по \"очищенным\" данным равен 17.4%;\n",
    "- Средний чек для группы В относительно группы А по \"сырым\" данным выше на 25.9%;\n",
    "- Средний чек для группы B относительно группы А по \"очищенным\" ниже на 2%;\n",
    "\n",
    "Учитывая вышеперечисленные результаты тестов, можно принять однозначно решение: остановить тест и зафиксировать победу группы В."
   ]
  }
 ],
 "metadata": {
  "ExecuteTimeLog": [
   {
    "duration": 1459,
    "start_time": "2022-12-07T21:00:23.100Z"
   },
   {
    "duration": 3,
    "start_time": "2022-12-07T21:00:38.610Z"
   },
   {
    "duration": 268,
    "start_time": "2022-12-07T21:02:57.825Z"
   },
   {
    "duration": 17,
    "start_time": "2022-12-07T21:03:27.722Z"
   },
   {
    "duration": 11,
    "start_time": "2022-12-07T21:03:41.000Z"
   },
   {
    "duration": 11,
    "start_time": "2022-12-07T21:04:15.564Z"
   },
   {
    "duration": 8,
    "start_time": "2022-12-07T21:04:23.762Z"
   },
   {
    "duration": 19,
    "start_time": "2022-12-07T21:04:38.124Z"
   },
   {
    "duration": 11,
    "start_time": "2022-12-07T21:04:44.409Z"
   },
   {
    "duration": 6,
    "start_time": "2022-12-07T21:07:43.793Z"
   },
   {
    "duration": 9,
    "start_time": "2022-12-07T21:08:08.148Z"
   },
   {
    "duration": 10,
    "start_time": "2022-12-07T21:09:04.864Z"
   },
   {
    "duration": 113,
    "start_time": "2022-12-07T21:09:46.753Z"
   },
   {
    "duration": 17,
    "start_time": "2022-12-07T21:09:58.749Z"
   },
   {
    "duration": 7,
    "start_time": "2022-12-07T21:10:09.003Z"
   },
   {
    "duration": 5,
    "start_time": "2022-12-07T21:10:30.211Z"
   },
   {
    "duration": 9,
    "start_time": "2022-12-07T21:10:33.945Z"
   },
   {
    "duration": 8,
    "start_time": "2022-12-07T21:14:36.540Z"
   },
   {
    "duration": 6,
    "start_time": "2022-12-07T21:14:58.240Z"
   },
   {
    "duration": 7,
    "start_time": "2022-12-07T21:15:12.659Z"
   },
   {
    "duration": 10,
    "start_time": "2022-12-07T21:15:25.674Z"
   },
   {
    "duration": 6,
    "start_time": "2022-12-07T21:15:45.017Z"
   },
   {
    "duration": 1904,
    "start_time": "2022-12-07T21:21:48.348Z"
   },
   {
    "duration": 1768,
    "start_time": "2022-12-07T21:27:46.869Z"
   },
   {
    "duration": 3,
    "start_time": "2022-12-07T21:29:16.779Z"
   },
   {
    "duration": 8,
    "start_time": "2022-12-07T21:29:25.959Z"
   },
   {
    "duration": 4,
    "start_time": "2022-12-07T21:30:40.392Z"
   },
   {
    "duration": 16,
    "start_time": "2022-12-07T21:30:49.309Z"
   },
   {
    "duration": 7,
    "start_time": "2022-12-07T21:30:59.456Z"
   },
   {
    "duration": 11,
    "start_time": "2022-12-07T21:32:08.540Z"
   },
   {
    "duration": 129,
    "start_time": "2022-12-07T21:32:34.349Z"
   },
   {
    "duration": 10,
    "start_time": "2022-12-07T21:33:40.495Z"
   },
   {
    "duration": 43,
    "start_time": "2022-12-07T21:48:25.400Z"
   },
   {
    "duration": 586,
    "start_time": "2022-12-07T21:49:18.180Z"
   },
   {
    "duration": 545,
    "start_time": "2022-12-07T21:49:38.164Z"
   },
   {
    "duration": 632,
    "start_time": "2022-12-07T21:49:45.516Z"
   },
   {
    "duration": 569,
    "start_time": "2022-12-07T21:49:52.685Z"
   },
   {
    "duration": 771,
    "start_time": "2022-12-07T21:49:57.115Z"
   },
   {
    "duration": 711,
    "start_time": "2022-12-07T21:50:49.454Z"
   },
   {
    "duration": 677,
    "start_time": "2022-12-07T21:50:56.376Z"
   },
   {
    "duration": 698,
    "start_time": "2022-12-07T21:51:09.467Z"
   },
   {
    "duration": 787,
    "start_time": "2022-12-07T21:52:17.644Z"
   },
   {
    "duration": 595,
    "start_time": "2022-12-07T21:52:24.953Z"
   },
   {
    "duration": 767,
    "start_time": "2022-12-07T21:52:35.986Z"
   },
   {
    "duration": 665,
    "start_time": "2022-12-07T21:53:10.965Z"
   },
   {
    "duration": 692,
    "start_time": "2022-12-07T21:53:39.120Z"
   },
   {
    "duration": 645,
    "start_time": "2022-12-07T21:57:22.043Z"
   },
   {
    "duration": 55,
    "start_time": "2022-12-08T13:03:40.020Z"
   },
   {
    "duration": 1291,
    "start_time": "2022-12-08T13:03:46.085Z"
   },
   {
    "duration": 219,
    "start_time": "2022-12-08T13:03:47.378Z"
   },
   {
    "duration": 12,
    "start_time": "2022-12-08T13:03:47.599Z"
   },
   {
    "duration": 13,
    "start_time": "2022-12-08T13:03:47.613Z"
   },
   {
    "duration": 4,
    "start_time": "2022-12-08T13:03:47.628Z"
   },
   {
    "duration": 19,
    "start_time": "2022-12-08T13:03:47.633Z"
   },
   {
    "duration": 10,
    "start_time": "2022-12-08T13:03:47.654Z"
   },
   {
    "duration": 13,
    "start_time": "2022-12-08T13:03:47.665Z"
   },
   {
    "duration": 10,
    "start_time": "2022-12-08T13:03:47.681Z"
   },
   {
    "duration": 11,
    "start_time": "2022-12-08T13:03:47.693Z"
   },
   {
    "duration": 6,
    "start_time": "2022-12-08T13:03:47.705Z"
   },
   {
    "duration": 14,
    "start_time": "2022-12-08T13:03:47.713Z"
   },
   {
    "duration": 12,
    "start_time": "2022-12-08T13:03:47.729Z"
   },
   {
    "duration": 16,
    "start_time": "2022-12-08T13:03:47.743Z"
   },
   {
    "duration": 21,
    "start_time": "2022-12-08T13:03:47.761Z"
   },
   {
    "duration": 13,
    "start_time": "2022-12-08T13:03:47.783Z"
   },
   {
    "duration": 8,
    "start_time": "2022-12-08T13:03:47.798Z"
   },
   {
    "duration": 565,
    "start_time": "2022-12-08T13:03:47.807Z"
   },
   {
    "duration": 539,
    "start_time": "2022-12-08T13:04:03.092Z"
   },
   {
    "duration": 542,
    "start_time": "2022-12-08T13:04:15.840Z"
   },
   {
    "duration": 572,
    "start_time": "2022-12-08T13:04:24.576Z"
   },
   {
    "duration": 44,
    "start_time": "2022-12-09T03:27:10.288Z"
   },
   {
    "duration": 1312,
    "start_time": "2022-12-09T03:27:19.407Z"
   },
   {
    "duration": 241,
    "start_time": "2022-12-09T03:27:20.722Z"
   },
   {
    "duration": 13,
    "start_time": "2022-12-09T03:27:20.965Z"
   },
   {
    "duration": 15,
    "start_time": "2022-12-09T03:27:20.980Z"
   },
   {
    "duration": 3,
    "start_time": "2022-12-09T03:27:20.997Z"
   },
   {
    "duration": 10,
    "start_time": "2022-12-09T03:27:21.001Z"
   },
   {
    "duration": 11,
    "start_time": "2022-12-09T03:27:21.012Z"
   },
   {
    "duration": 16,
    "start_time": "2022-12-09T03:27:21.024Z"
   },
   {
    "duration": 23,
    "start_time": "2022-12-09T03:27:21.042Z"
   },
   {
    "duration": 14,
    "start_time": "2022-12-09T03:27:21.067Z"
   },
   {
    "duration": 6,
    "start_time": "2022-12-09T03:27:21.082Z"
   },
   {
    "duration": 94,
    "start_time": "2022-12-09T03:27:21.089Z"
   },
   {
    "duration": 0,
    "start_time": "2022-12-09T03:27:21.185Z"
   },
   {
    "duration": 0,
    "start_time": "2022-12-09T03:27:21.186Z"
   },
   {
    "duration": 0,
    "start_time": "2022-12-09T03:27:21.187Z"
   },
   {
    "duration": 0,
    "start_time": "2022-12-09T03:27:21.188Z"
   },
   {
    "duration": 0,
    "start_time": "2022-12-09T03:27:21.189Z"
   },
   {
    "duration": 0,
    "start_time": "2022-12-09T03:27:21.190Z"
   },
   {
    "duration": 0,
    "start_time": "2022-12-09T03:27:21.191Z"
   },
   {
    "duration": 6,
    "start_time": "2022-12-09T03:27:43.882Z"
   },
   {
    "duration": 5,
    "start_time": "2022-12-09T03:29:38.027Z"
   },
   {
    "duration": 7,
    "start_time": "2022-12-09T03:30:04.983Z"
   },
   {
    "duration": 11,
    "start_time": "2022-12-09T03:30:15.651Z"
   },
   {
    "duration": 5,
    "start_time": "2022-12-09T03:30:29.649Z"
   },
   {
    "duration": 8,
    "start_time": "2022-12-09T03:31:07.841Z"
   },
   {
    "duration": 8,
    "start_time": "2022-12-09T03:31:38.584Z"
   },
   {
    "duration": 5,
    "start_time": "2022-12-09T03:36:46.786Z"
   },
   {
    "duration": 17,
    "start_time": "2022-12-09T03:37:43.672Z"
   },
   {
    "duration": 1058,
    "start_time": "2022-12-09T03:38:05.847Z"
   },
   {
    "duration": 77,
    "start_time": "2022-12-09T03:38:06.907Z"
   },
   {
    "duration": 11,
    "start_time": "2022-12-09T03:38:06.986Z"
   },
   {
    "duration": 13,
    "start_time": "2022-12-09T03:38:06.998Z"
   },
   {
    "duration": 3,
    "start_time": "2022-12-09T03:38:07.013Z"
   },
   {
    "duration": 8,
    "start_time": "2022-12-09T03:38:07.018Z"
   },
   {
    "duration": 6,
    "start_time": "2022-12-09T03:38:07.027Z"
   },
   {
    "duration": 10,
    "start_time": "2022-12-09T03:38:07.035Z"
   },
   {
    "duration": 10,
    "start_time": "2022-12-09T03:38:07.046Z"
   },
   {
    "duration": 8,
    "start_time": "2022-12-09T03:38:07.057Z"
   },
   {
    "duration": 5,
    "start_time": "2022-12-09T03:38:07.066Z"
   },
   {
    "duration": 115,
    "start_time": "2022-12-09T03:38:07.072Z"
   },
   {
    "duration": 0,
    "start_time": "2022-12-09T03:38:07.188Z"
   },
   {
    "duration": 0,
    "start_time": "2022-12-09T03:38:07.189Z"
   },
   {
    "duration": 0,
    "start_time": "2022-12-09T03:38:07.190Z"
   },
   {
    "duration": 0,
    "start_time": "2022-12-09T03:38:07.191Z"
   },
   {
    "duration": 0,
    "start_time": "2022-12-09T03:38:07.192Z"
   },
   {
    "duration": 0,
    "start_time": "2022-12-09T03:38:07.194Z"
   },
   {
    "duration": 0,
    "start_time": "2022-12-09T03:38:07.195Z"
   },
   {
    "duration": 0,
    "start_time": "2022-12-09T03:38:07.196Z"
   },
   {
    "duration": 4,
    "start_time": "2022-12-09T03:39:11.660Z"
   },
   {
    "duration": 7,
    "start_time": "2022-12-09T03:39:18.424Z"
   },
   {
    "duration": 9,
    "start_time": "2022-12-09T03:39:43.843Z"
   },
   {
    "duration": 17,
    "start_time": "2022-12-09T03:40:50.074Z"
   },
   {
    "duration": 23,
    "start_time": "2022-12-09T03:41:10.644Z"
   },
   {
    "duration": 20,
    "start_time": "2022-12-09T03:41:46.657Z"
   },
   {
    "duration": 24,
    "start_time": "2022-12-09T03:41:57.842Z"
   },
   {
    "duration": 1069,
    "start_time": "2022-12-09T03:42:21.043Z"
   },
   {
    "duration": 78,
    "start_time": "2022-12-09T03:42:22.114Z"
   },
   {
    "duration": 11,
    "start_time": "2022-12-09T03:42:22.194Z"
   },
   {
    "duration": 15,
    "start_time": "2022-12-09T03:42:22.207Z"
   },
   {
    "duration": 3,
    "start_time": "2022-12-09T03:42:22.223Z"
   },
   {
    "duration": 11,
    "start_time": "2022-12-09T03:42:22.228Z"
   },
   {
    "duration": 17,
    "start_time": "2022-12-09T03:42:22.241Z"
   },
   {
    "duration": 18,
    "start_time": "2022-12-09T03:42:22.259Z"
   },
   {
    "duration": 9,
    "start_time": "2022-12-09T03:42:22.278Z"
   },
   {
    "duration": 9,
    "start_time": "2022-12-09T03:42:22.289Z"
   },
   {
    "duration": 5,
    "start_time": "2022-12-09T03:42:22.300Z"
   },
   {
    "duration": 17,
    "start_time": "2022-12-09T03:42:22.307Z"
   },
   {
    "duration": 20,
    "start_time": "2022-12-09T03:42:22.325Z"
   },
   {
    "duration": 9,
    "start_time": "2022-12-09T03:42:22.347Z"
   },
   {
    "duration": 9,
    "start_time": "2022-12-09T03:42:22.357Z"
   },
   {
    "duration": 9,
    "start_time": "2022-12-09T03:42:22.367Z"
   },
   {
    "duration": 10,
    "start_time": "2022-12-09T03:42:22.378Z"
   },
   {
    "duration": 35,
    "start_time": "2022-12-09T03:42:22.390Z"
   },
   {
    "duration": 8,
    "start_time": "2022-12-09T03:42:22.426Z"
   },
   {
    "duration": 563,
    "start_time": "2022-12-09T03:42:22.436Z"
   },
   {
    "duration": 574,
    "start_time": "2022-12-09T03:44:01.673Z"
   },
   {
    "duration": 259,
    "start_time": "2022-12-09T03:54:22.928Z"
   },
   {
    "duration": 256,
    "start_time": "2022-12-09T03:55:13.336Z"
   },
   {
    "duration": 321,
    "start_time": "2022-12-09T03:55:29.480Z"
   },
   {
    "duration": 661,
    "start_time": "2022-12-09T03:55:43.507Z"
   },
   {
    "duration": 284,
    "start_time": "2022-12-09T03:55:54.310Z"
   },
   {
    "duration": 45,
    "start_time": "2022-12-09T07:05:13.125Z"
   },
   {
    "duration": 1360,
    "start_time": "2022-12-09T07:05:22.211Z"
   },
   {
    "duration": 226,
    "start_time": "2022-12-09T07:05:23.572Z"
   },
   {
    "duration": 18,
    "start_time": "2022-12-09T07:05:23.800Z"
   },
   {
    "duration": 15,
    "start_time": "2022-12-09T07:05:23.820Z"
   },
   {
    "duration": 3,
    "start_time": "2022-12-09T07:05:23.837Z"
   },
   {
    "duration": 12,
    "start_time": "2022-12-09T07:05:23.842Z"
   },
   {
    "duration": 11,
    "start_time": "2022-12-09T07:05:23.856Z"
   },
   {
    "duration": 29,
    "start_time": "2022-12-09T07:05:23.869Z"
   },
   {
    "duration": 25,
    "start_time": "2022-12-09T07:05:23.901Z"
   },
   {
    "duration": 10,
    "start_time": "2022-12-09T07:05:23.930Z"
   },
   {
    "duration": 5,
    "start_time": "2022-12-09T07:05:23.942Z"
   },
   {
    "duration": 12,
    "start_time": "2022-12-09T07:05:23.949Z"
   },
   {
    "duration": 35,
    "start_time": "2022-12-09T07:05:23.963Z"
   },
   {
    "duration": 15,
    "start_time": "2022-12-09T07:05:24.001Z"
   },
   {
    "duration": 7,
    "start_time": "2022-12-09T07:05:24.018Z"
   },
   {
    "duration": 10,
    "start_time": "2022-12-09T07:05:24.026Z"
   },
   {
    "duration": 7,
    "start_time": "2022-12-09T07:05:24.037Z"
   },
   {
    "duration": 11,
    "start_time": "2022-12-09T07:05:24.045Z"
   },
   {
    "duration": 8,
    "start_time": "2022-12-09T07:05:24.057Z"
   },
   {
    "duration": 617,
    "start_time": "2022-12-09T07:05:24.066Z"
   },
   {
    "duration": 350,
    "start_time": "2022-12-09T07:05:24.685Z"
   },
   {
    "duration": 14,
    "start_time": "2022-12-09T07:05:25.037Z"
   },
   {
    "duration": 12,
    "start_time": "2022-12-09T07:05:39.262Z"
   },
   {
    "duration": 52,
    "start_time": "2022-12-09T07:07:25.574Z"
   },
   {
    "duration": 13,
    "start_time": "2022-12-09T07:07:31.313Z"
   },
   {
    "duration": 10,
    "start_time": "2022-12-09T07:07:43.243Z"
   },
   {
    "duration": 11,
    "start_time": "2022-12-09T07:08:06.763Z"
   },
   {
    "duration": 85,
    "start_time": "2022-12-09T07:13:28.673Z"
   },
   {
    "duration": 49,
    "start_time": "2022-12-09T17:36:29.238Z"
   },
   {
    "duration": 1434,
    "start_time": "2022-12-09T17:36:41.685Z"
   },
   {
    "duration": 223,
    "start_time": "2022-12-09T17:36:43.121Z"
   },
   {
    "duration": 12,
    "start_time": "2022-12-09T17:36:43.346Z"
   },
   {
    "duration": 13,
    "start_time": "2022-12-09T17:36:43.361Z"
   },
   {
    "duration": 4,
    "start_time": "2022-12-09T17:36:43.375Z"
   },
   {
    "duration": 11,
    "start_time": "2022-12-09T17:36:43.380Z"
   },
   {
    "duration": 8,
    "start_time": "2022-12-09T17:36:43.393Z"
   },
   {
    "duration": 22,
    "start_time": "2022-12-09T17:36:43.402Z"
   },
   {
    "duration": 12,
    "start_time": "2022-12-09T17:36:43.426Z"
   },
   {
    "duration": 10,
    "start_time": "2022-12-09T17:36:43.440Z"
   },
   {
    "duration": 6,
    "start_time": "2022-12-09T17:36:43.452Z"
   },
   {
    "duration": 7,
    "start_time": "2022-12-09T17:36:43.460Z"
   },
   {
    "duration": 71,
    "start_time": "2022-12-09T17:36:43.469Z"
   },
   {
    "duration": 11,
    "start_time": "2022-12-09T17:36:43.541Z"
   },
   {
    "duration": 13,
    "start_time": "2022-12-09T17:36:43.554Z"
   },
   {
    "duration": 11,
    "start_time": "2022-12-09T17:36:43.569Z"
   },
   {
    "duration": 33,
    "start_time": "2022-12-09T17:36:43.581Z"
   },
   {
    "duration": 15,
    "start_time": "2022-12-09T17:36:43.616Z"
   },
   {
    "duration": 12,
    "start_time": "2022-12-09T17:36:43.633Z"
   },
   {
    "duration": 640,
    "start_time": "2022-12-09T17:36:43.648Z"
   },
   {
    "duration": 316,
    "start_time": "2022-12-09T17:36:44.290Z"
   },
   {
    "duration": 14,
    "start_time": "2022-12-09T17:36:44.608Z"
   },
   {
    "duration": 433,
    "start_time": "2022-12-09T17:36:44.624Z"
   },
   {
    "duration": 383,
    "start_time": "2022-12-09T17:37:21.387Z"
   },
   {
    "duration": 398,
    "start_time": "2022-12-09T17:37:43.614Z"
   },
   {
    "duration": 168,
    "start_time": "2022-12-09T17:38:04.632Z"
   },
   {
    "duration": 383,
    "start_time": "2022-12-09T17:38:11.976Z"
   },
   {
    "duration": 346,
    "start_time": "2022-12-09T17:43:51.475Z"
   },
   {
    "duration": 275,
    "start_time": "2022-12-09T17:44:03.741Z"
   },
   {
    "duration": 320,
    "start_time": "2022-12-09T17:44:20.567Z"
   },
   {
    "duration": 280,
    "start_time": "2022-12-09T17:54:45.975Z"
   },
   {
    "duration": 426,
    "start_time": "2022-12-09T17:55:50.043Z"
   },
   {
    "duration": 313,
    "start_time": "2022-12-09T17:56:06.793Z"
   },
   {
    "duration": 417,
    "start_time": "2022-12-09T17:56:14.190Z"
   },
   {
    "duration": 433,
    "start_time": "2022-12-09T17:56:36.157Z"
   },
   {
    "duration": 426,
    "start_time": "2022-12-09T17:56:44.088Z"
   },
   {
    "duration": 450,
    "start_time": "2022-12-09T17:56:51.741Z"
   },
   {
    "duration": 303,
    "start_time": "2022-12-09T17:57:03.855Z"
   },
   {
    "duration": 423,
    "start_time": "2022-12-09T17:57:48.931Z"
   },
   {
    "duration": 617,
    "start_time": "2022-12-09T17:57:52.263Z"
   },
   {
    "duration": 327,
    "start_time": "2022-12-09T17:58:49.300Z"
   },
   {
    "duration": 400,
    "start_time": "2022-12-09T17:58:57.820Z"
   },
   {
    "duration": 372,
    "start_time": "2022-12-09T17:59:09.759Z"
   },
   {
    "duration": 429,
    "start_time": "2022-12-09T17:59:23.886Z"
   },
   {
    "duration": 409,
    "start_time": "2022-12-09T17:59:29.776Z"
   },
   {
    "duration": 319,
    "start_time": "2022-12-09T17:59:51.934Z"
   },
   {
    "duration": 389,
    "start_time": "2022-12-09T17:59:59.145Z"
   },
   {
    "duration": 410,
    "start_time": "2022-12-09T18:04:52.830Z"
   },
   {
    "duration": 522,
    "start_time": "2022-12-09T18:05:12.955Z"
   },
   {
    "duration": 458,
    "start_time": "2022-12-09T18:05:23.190Z"
   },
   {
    "duration": 427,
    "start_time": "2022-12-09T18:06:03.674Z"
   },
   {
    "duration": 104,
    "start_time": "2022-12-09T18:10:04.093Z"
   },
   {
    "duration": 17,
    "start_time": "2022-12-09T18:10:21.384Z"
   },
   {
    "duration": 292,
    "start_time": "2022-12-09T18:11:47.685Z"
   },
   {
    "duration": 126,
    "start_time": "2022-12-09T18:12:07.675Z"
   },
   {
    "duration": 18,
    "start_time": "2022-12-09T18:13:12.344Z"
   },
   {
    "duration": 175,
    "start_time": "2022-12-09T18:13:30.380Z"
   },
   {
    "duration": 22,
    "start_time": "2022-12-09T18:14:14.620Z"
   },
   {
    "duration": 132,
    "start_time": "2022-12-09T18:14:43.663Z"
   },
   {
    "duration": 168,
    "start_time": "2022-12-09T18:15:44.993Z"
   },
   {
    "duration": 158,
    "start_time": "2022-12-09T18:16:01.313Z"
   },
   {
    "duration": 18,
    "start_time": "2022-12-09T18:16:40.736Z"
   },
   {
    "duration": 10,
    "start_time": "2022-12-09T18:18:19.256Z"
   },
   {
    "duration": 136,
    "start_time": "2022-12-09T18:18:32.826Z"
   },
   {
    "duration": 1183,
    "start_time": "2022-12-09T18:18:50.374Z"
   },
   {
    "duration": 87,
    "start_time": "2022-12-09T18:18:51.560Z"
   },
   {
    "duration": 14,
    "start_time": "2022-12-09T18:18:51.650Z"
   },
   {
    "duration": 18,
    "start_time": "2022-12-09T18:18:51.666Z"
   },
   {
    "duration": 19,
    "start_time": "2022-12-09T18:18:51.687Z"
   },
   {
    "duration": 23,
    "start_time": "2022-12-09T18:18:51.708Z"
   },
   {
    "duration": 13,
    "start_time": "2022-12-09T18:18:51.733Z"
   },
   {
    "duration": 18,
    "start_time": "2022-12-09T18:18:51.748Z"
   },
   {
    "duration": 24,
    "start_time": "2022-12-09T18:18:51.768Z"
   },
   {
    "duration": 16,
    "start_time": "2022-12-09T18:18:51.793Z"
   },
   {
    "duration": 24,
    "start_time": "2022-12-09T18:18:51.811Z"
   },
   {
    "duration": 16,
    "start_time": "2022-12-09T18:18:51.838Z"
   },
   {
    "duration": 30,
    "start_time": "2022-12-09T18:18:51.856Z"
   },
   {
    "duration": 11,
    "start_time": "2022-12-09T18:18:51.890Z"
   },
   {
    "duration": 33,
    "start_time": "2022-12-09T18:18:51.903Z"
   },
   {
    "duration": 10,
    "start_time": "2022-12-09T18:18:51.938Z"
   },
   {
    "duration": 6,
    "start_time": "2022-12-09T18:18:51.950Z"
   },
   {
    "duration": 20,
    "start_time": "2022-12-09T18:18:51.957Z"
   },
   {
    "duration": 11,
    "start_time": "2022-12-09T18:18:51.979Z"
   },
   {
    "duration": 639,
    "start_time": "2022-12-09T18:18:51.993Z"
   },
   {
    "duration": 345,
    "start_time": "2022-12-09T18:18:52.634Z"
   },
   {
    "duration": 12,
    "start_time": "2022-12-09T18:18:52.981Z"
   },
   {
    "duration": 448,
    "start_time": "2022-12-09T18:18:52.995Z"
   },
   {
    "duration": 378,
    "start_time": "2022-12-09T18:18:53.445Z"
   },
   {
    "duration": 442,
    "start_time": "2022-12-09T18:18:53.825Z"
   },
   {
    "duration": 183,
    "start_time": "2022-12-09T18:18:54.269Z"
   },
   {
    "duration": 158,
    "start_time": "2022-12-09T18:18:54.454Z"
   },
   {
    "duration": 334,
    "start_time": "2022-12-09T18:19:40.477Z"
   },
   {
    "duration": 294,
    "start_time": "2022-12-09T18:20:14.611Z"
   },
   {
    "duration": 360,
    "start_time": "2022-12-09T18:20:24.278Z"
   },
   {
    "duration": 1226,
    "start_time": "2022-12-09T18:21:35.093Z"
   },
   {
    "duration": 74,
    "start_time": "2022-12-09T18:21:36.322Z"
   },
   {
    "duration": 13,
    "start_time": "2022-12-09T18:21:36.398Z"
   },
   {
    "duration": 13,
    "start_time": "2022-12-09T18:21:36.413Z"
   },
   {
    "duration": 5,
    "start_time": "2022-12-09T18:21:36.436Z"
   },
   {
    "duration": 16,
    "start_time": "2022-12-09T18:21:36.443Z"
   },
   {
    "duration": 16,
    "start_time": "2022-12-09T18:21:36.462Z"
   },
   {
    "duration": 30,
    "start_time": "2022-12-09T18:21:36.481Z"
   },
   {
    "duration": 17,
    "start_time": "2022-12-09T18:21:36.513Z"
   },
   {
    "duration": 11,
    "start_time": "2022-12-09T18:21:36.533Z"
   },
   {
    "duration": 8,
    "start_time": "2022-12-09T18:21:36.546Z"
   },
   {
    "duration": 18,
    "start_time": "2022-12-09T18:21:36.555Z"
   },
   {
    "duration": 7,
    "start_time": "2022-12-09T18:21:36.575Z"
   },
   {
    "duration": 38,
    "start_time": "2022-12-09T18:21:36.584Z"
   },
   {
    "duration": 10,
    "start_time": "2022-12-09T18:21:36.624Z"
   },
   {
    "duration": 14,
    "start_time": "2022-12-09T18:21:36.636Z"
   },
   {
    "duration": 10,
    "start_time": "2022-12-09T18:21:36.652Z"
   },
   {
    "duration": 49,
    "start_time": "2022-12-09T18:21:36.664Z"
   },
   {
    "duration": 9,
    "start_time": "2022-12-09T18:21:36.716Z"
   },
   {
    "duration": 631,
    "start_time": "2022-12-09T18:21:36.728Z"
   },
   {
    "duration": 336,
    "start_time": "2022-12-09T18:21:37.361Z"
   },
   {
    "duration": 20,
    "start_time": "2022-12-09T18:21:37.699Z"
   },
   {
    "duration": 428,
    "start_time": "2022-12-09T18:21:37.721Z"
   },
   {
    "duration": 347,
    "start_time": "2022-12-09T18:21:38.151Z"
   },
   {
    "duration": 441,
    "start_time": "2022-12-09T18:21:38.500Z"
   },
   {
    "duration": 333,
    "start_time": "2022-12-09T18:21:38.943Z"
   },
   {
    "duration": 2,
    "start_time": "2022-12-09T18:24:01.959Z"
   },
   {
    "duration": 506,
    "start_time": "2022-12-09T18:25:07.399Z"
   },
   {
    "duration": 415,
    "start_time": "2022-12-09T18:25:48.140Z"
   },
   {
    "duration": 4,
    "start_time": "2022-12-09T18:31:54.483Z"
   },
   {
    "duration": 4,
    "start_time": "2022-12-09T18:32:08.342Z"
   },
   {
    "duration": 1539,
    "start_time": "2022-12-09T18:37:20.562Z"
   },
   {
    "duration": 139,
    "start_time": "2022-12-09T18:39:05.974Z"
   },
   {
    "duration": 202,
    "start_time": "2022-12-09T18:39:44.983Z"
   },
   {
    "duration": 12,
    "start_time": "2022-12-09T18:42:19.189Z"
   },
   {
    "duration": 167,
    "start_time": "2022-12-09T18:42:28.753Z"
   },
   {
    "duration": 171,
    "start_time": "2022-12-09T18:43:03.485Z"
   },
   {
    "duration": 172,
    "start_time": "2022-12-09T18:45:37.577Z"
   },
   {
    "duration": 210,
    "start_time": "2022-12-09T18:45:46.991Z"
   },
   {
    "duration": 299,
    "start_time": "2022-12-09T18:51:54.111Z"
   },
   {
    "duration": 1188,
    "start_time": "2022-12-09T18:52:04.252Z"
   },
   {
    "duration": 300,
    "start_time": "2022-12-09T18:52:16.805Z"
   },
   {
    "duration": 5,
    "start_time": "2022-12-09T18:52:21.213Z"
   },
   {
    "duration": 175,
    "start_time": "2022-12-09T18:52:24.371Z"
   },
   {
    "duration": 1111,
    "start_time": "2022-12-09T18:52:28.400Z"
   },
   {
    "duration": 5,
    "start_time": "2022-12-09T18:52:48.164Z"
   },
   {
    "duration": 5,
    "start_time": "2022-12-09T18:54:37.292Z"
   },
   {
    "duration": 5,
    "start_time": "2022-12-09T18:58:18.188Z"
   },
   {
    "duration": 5,
    "start_time": "2022-12-09T18:58:31.917Z"
   },
   {
    "duration": 6,
    "start_time": "2022-12-09T18:58:43.451Z"
   },
   {
    "duration": 1132,
    "start_time": "2022-12-09T18:58:50.447Z"
   },
   {
    "duration": 5,
    "start_time": "2022-12-09T18:58:59.104Z"
   },
   {
    "duration": 118,
    "start_time": "2022-12-09T19:03:25.504Z"
   },
   {
    "duration": 118,
    "start_time": "2022-12-09T19:04:33.562Z"
   },
   {
    "duration": 236,
    "start_time": "2022-12-09T19:06:07.764Z"
   },
   {
    "duration": 511,
    "start_time": "2022-12-09T19:07:15.043Z"
   },
   {
    "duration": 595,
    "start_time": "2022-12-09T19:08:11.988Z"
   },
   {
    "duration": 22,
    "start_time": "2022-12-09T19:09:11.670Z"
   },
   {
    "duration": 30,
    "start_time": "2022-12-09T19:11:15.913Z"
   },
   {
    "duration": 450,
    "start_time": "2022-12-09T19:18:34.915Z"
   },
   {
    "duration": 32,
    "start_time": "2022-12-09T19:21:12.026Z"
   },
   {
    "duration": 539,
    "start_time": "2022-12-09T19:21:15.190Z"
   },
   {
    "duration": 24,
    "start_time": "2022-12-09T19:21:18.462Z"
   },
   {
    "duration": 12,
    "start_time": "2022-12-09T19:23:21.834Z"
   },
   {
    "duration": 96,
    "start_time": "2022-12-09T19:24:59.132Z"
   },
   {
    "duration": 36,
    "start_time": "2022-12-09T19:26:24.098Z"
   },
   {
    "duration": 23,
    "start_time": "2022-12-09T19:26:39.754Z"
   },
   {
    "duration": 11,
    "start_time": "2022-12-09T19:26:57.782Z"
   },
   {
    "duration": 1277,
    "start_time": "2022-12-09T19:36:30.978Z"
   },
   {
    "duration": 1277,
    "start_time": "2022-12-09T19:36:50.089Z"
   },
   {
    "duration": 1334,
    "start_time": "2022-12-09T19:37:05.164Z"
   },
   {
    "duration": 1099,
    "start_time": "2022-12-09T19:37:42.436Z"
   },
   {
    "duration": 1125,
    "start_time": "2022-12-09T19:38:38.018Z"
   },
   {
    "duration": 1086,
    "start_time": "2022-12-09T19:39:27.602Z"
   },
   {
    "duration": 1227,
    "start_time": "2022-12-09T19:39:35.578Z"
   },
   {
    "duration": 75,
    "start_time": "2022-12-09T19:39:36.806Z"
   },
   {
    "duration": 15,
    "start_time": "2022-12-09T19:39:36.883Z"
   },
   {
    "duration": 15,
    "start_time": "2022-12-09T19:39:36.901Z"
   },
   {
    "duration": 4,
    "start_time": "2022-12-09T19:39:36.919Z"
   },
   {
    "duration": 21,
    "start_time": "2022-12-09T19:39:36.925Z"
   },
   {
    "duration": 13,
    "start_time": "2022-12-09T19:39:36.949Z"
   },
   {
    "duration": 24,
    "start_time": "2022-12-09T19:39:36.964Z"
   },
   {
    "duration": 14,
    "start_time": "2022-12-09T19:39:36.990Z"
   },
   {
    "duration": 12,
    "start_time": "2022-12-09T19:39:37.014Z"
   },
   {
    "duration": 9,
    "start_time": "2022-12-09T19:39:37.028Z"
   },
   {
    "duration": 7,
    "start_time": "2022-12-09T19:39:37.039Z"
   },
   {
    "duration": 19,
    "start_time": "2022-12-09T19:39:37.047Z"
   },
   {
    "duration": 15,
    "start_time": "2022-12-09T19:39:37.068Z"
   },
   {
    "duration": 32,
    "start_time": "2022-12-09T19:39:37.084Z"
   },
   {
    "duration": 10,
    "start_time": "2022-12-09T19:39:37.118Z"
   },
   {
    "duration": 17,
    "start_time": "2022-12-09T19:39:37.130Z"
   },
   {
    "duration": 10,
    "start_time": "2022-12-09T19:39:37.148Z"
   },
   {
    "duration": 682,
    "start_time": "2022-12-09T19:39:37.160Z"
   },
   {
    "duration": 322,
    "start_time": "2022-12-09T19:39:37.843Z"
   },
   {
    "duration": 12,
    "start_time": "2022-12-09T19:39:38.166Z"
   },
   {
    "duration": 461,
    "start_time": "2022-12-09T19:39:38.179Z"
   },
   {
    "duration": 385,
    "start_time": "2022-12-09T19:39:38.643Z"
   },
   {
    "duration": 414,
    "start_time": "2022-12-09T19:39:39.030Z"
   },
   {
    "duration": 291,
    "start_time": "2022-12-09T19:39:39.446Z"
   },
   {
    "duration": 4,
    "start_time": "2022-12-09T19:39:39.739Z"
   },
   {
    "duration": 9,
    "start_time": "2022-12-09T19:39:39.745Z"
   },
   {
    "duration": 194,
    "start_time": "2022-12-09T19:39:39.757Z"
   },
   {
    "duration": 5,
    "start_time": "2022-12-09T19:39:39.953Z"
   },
   {
    "duration": 11,
    "start_time": "2022-12-09T19:39:39.959Z"
   },
   {
    "duration": 688,
    "start_time": "2022-12-09T19:39:39.972Z"
   },
   {
    "duration": 22,
    "start_time": "2022-12-09T19:39:40.662Z"
   },
   {
    "duration": 32,
    "start_time": "2022-12-09T19:39:40.686Z"
   },
   {
    "duration": 1195,
    "start_time": "2022-12-09T19:39:40.720Z"
   },
   {
    "duration": 4247,
    "start_time": "2022-12-09T19:40:03.327Z"
   },
   {
    "duration": 7,
    "start_time": "2022-12-09T19:40:38.313Z"
   },
   {
    "duration": 9,
    "start_time": "2022-12-09T19:41:08.455Z"
   },
   {
    "duration": 9,
    "start_time": "2022-12-09T19:41:43.580Z"
   },
   {
    "duration": 14,
    "start_time": "2022-12-09T19:43:04.959Z"
   },
   {
    "duration": 10,
    "start_time": "2022-12-09T19:44:09.385Z"
   },
   {
    "duration": 9,
    "start_time": "2022-12-09T19:44:14.449Z"
   },
   {
    "duration": 11,
    "start_time": "2022-12-09T19:45:52.989Z"
   },
   {
    "duration": 1153,
    "start_time": "2022-12-09T19:47:37.584Z"
   },
   {
    "duration": 36,
    "start_time": "2022-12-09T19:48:20.676Z"
   },
   {
    "duration": 39,
    "start_time": "2022-12-09T19:49:20.272Z"
   },
   {
    "duration": 8,
    "start_time": "2022-12-09T19:52:17.536Z"
   },
   {
    "duration": 36,
    "start_time": "2022-12-09T19:52:20.325Z"
   },
   {
    "duration": 13,
    "start_time": "2022-12-09T19:52:49.187Z"
   },
   {
    "duration": 25,
    "start_time": "2022-12-09T19:52:54.339Z"
   },
   {
    "duration": 23,
    "start_time": "2022-12-09T19:53:14.031Z"
   },
   {
    "duration": 24,
    "start_time": "2022-12-09T19:54:18.884Z"
   },
   {
    "duration": 36,
    "start_time": "2022-12-09T19:54:34.947Z"
   },
   {
    "duration": 72,
    "start_time": "2022-12-09T19:56:30.617Z"
   },
   {
    "duration": 1520,
    "start_time": "2022-12-09T20:04:52.563Z"
   },
   {
    "duration": 15,
    "start_time": "2022-12-09T20:05:35.369Z"
   },
   {
    "duration": 17,
    "start_time": "2022-12-09T20:06:01.926Z"
   },
   {
    "duration": 20,
    "start_time": "2022-12-09T20:06:14.026Z"
   },
   {
    "duration": 11,
    "start_time": "2022-12-09T20:06:39.736Z"
   },
   {
    "duration": 13,
    "start_time": "2022-12-09T20:06:59.036Z"
   },
   {
    "duration": 22,
    "start_time": "2022-12-09T20:07:23.335Z"
   },
   {
    "duration": 17,
    "start_time": "2022-12-09T20:10:17.887Z"
   },
   {
    "duration": 152,
    "start_time": "2022-12-09T20:35:57.290Z"
   },
   {
    "duration": 212,
    "start_time": "2022-12-09T20:37:41.718Z"
   },
   {
    "duration": 34,
    "start_time": "2022-12-09T20:37:44.864Z"
   },
   {
    "duration": 286,
    "start_time": "2022-12-09T20:38:02.848Z"
   },
   {
    "duration": 22,
    "start_time": "2022-12-09T20:38:15.374Z"
   },
   {
    "duration": 154,
    "start_time": "2022-12-09T20:38:59.096Z"
   },
   {
    "duration": 212,
    "start_time": "2022-12-09T20:39:03.112Z"
   },
   {
    "duration": 32,
    "start_time": "2022-12-09T20:39:05.411Z"
   },
   {
    "duration": 151,
    "start_time": "2022-12-09T20:39:07.535Z"
   },
   {
    "duration": 96,
    "start_time": "2022-12-09T20:39:54.883Z"
   },
   {
    "duration": 156,
    "start_time": "2022-12-09T20:42:03.649Z"
   },
   {
    "duration": 183,
    "start_time": "2022-12-09T20:42:24.657Z"
   },
   {
    "duration": 22,
    "start_time": "2022-12-09T20:42:26.384Z"
   },
   {
    "duration": 171,
    "start_time": "2022-12-09T20:42:40.989Z"
   },
   {
    "duration": 24,
    "start_time": "2022-12-09T20:42:43.838Z"
   },
   {
    "duration": 155,
    "start_time": "2022-12-09T20:43:56.745Z"
   },
   {
    "duration": 1232,
    "start_time": "2022-12-09T20:44:03.447Z"
   },
   {
    "duration": 91,
    "start_time": "2022-12-09T20:44:04.683Z"
   },
   {
    "duration": 18,
    "start_time": "2022-12-09T20:44:04.776Z"
   },
   {
    "duration": 20,
    "start_time": "2022-12-09T20:44:04.796Z"
   },
   {
    "duration": 4,
    "start_time": "2022-12-09T20:44:04.818Z"
   },
   {
    "duration": 32,
    "start_time": "2022-12-09T20:44:04.824Z"
   },
   {
    "duration": 7,
    "start_time": "2022-12-09T20:44:04.859Z"
   },
   {
    "duration": 15,
    "start_time": "2022-12-09T20:44:04.868Z"
   },
   {
    "duration": 10,
    "start_time": "2022-12-09T20:44:04.885Z"
   },
   {
    "duration": 12,
    "start_time": "2022-12-09T20:44:04.917Z"
   },
   {
    "duration": 18,
    "start_time": "2022-12-09T20:44:04.932Z"
   },
   {
    "duration": 13,
    "start_time": "2022-12-09T20:44:04.952Z"
   },
   {
    "duration": 15,
    "start_time": "2022-12-09T20:44:04.967Z"
   },
   {
    "duration": 37,
    "start_time": "2022-12-09T20:44:04.986Z"
   },
   {
    "duration": 13,
    "start_time": "2022-12-09T20:44:05.028Z"
   },
   {
    "duration": 17,
    "start_time": "2022-12-09T20:44:05.044Z"
   },
   {
    "duration": 14,
    "start_time": "2022-12-09T20:44:05.065Z"
   },
   {
    "duration": 12,
    "start_time": "2022-12-09T20:44:05.081Z"
   },
   {
    "duration": 708,
    "start_time": "2022-12-09T20:44:05.094Z"
   },
   {
    "duration": 361,
    "start_time": "2022-12-09T20:44:05.804Z"
   },
   {
    "duration": 11,
    "start_time": "2022-12-09T20:44:06.167Z"
   },
   {
    "duration": 460,
    "start_time": "2022-12-09T20:44:06.180Z"
   },
   {
    "duration": 403,
    "start_time": "2022-12-09T20:44:06.642Z"
   },
   {
    "duration": 463,
    "start_time": "2022-12-09T20:44:07.047Z"
   },
   {
    "duration": 352,
    "start_time": "2022-12-09T20:44:07.512Z"
   },
   {
    "duration": 5,
    "start_time": "2022-12-09T20:44:07.866Z"
   },
   {
    "duration": 7,
    "start_time": "2022-12-09T20:44:07.874Z"
   },
   {
    "duration": 268,
    "start_time": "2022-12-09T20:44:07.884Z"
   },
   {
    "duration": 5,
    "start_time": "2022-12-09T20:44:08.155Z"
   },
   {
    "duration": 6,
    "start_time": "2022-12-09T20:44:08.163Z"
   },
   {
    "duration": 368,
    "start_time": "2022-12-09T20:44:08.171Z"
   },
   {
    "duration": 26,
    "start_time": "2022-12-09T20:44:08.541Z"
   },
   {
    "duration": 212,
    "start_time": "2022-12-09T20:44:08.569Z"
   },
   {
    "duration": 34,
    "start_time": "2022-12-09T20:44:08.782Z"
   },
   {
    "duration": 16,
    "start_time": "2022-12-09T20:44:08.822Z"
   },
   {
    "duration": 13,
    "start_time": "2022-12-09T20:44:08.840Z"
   },
   {
    "duration": 14,
    "start_time": "2022-12-09T20:44:08.855Z"
   },
   {
    "duration": 24,
    "start_time": "2022-12-09T20:44:08.872Z"
   },
   {
    "duration": 50,
    "start_time": "2022-12-09T20:44:08.898Z"
   },
   {
    "duration": 1194,
    "start_time": "2022-12-09T21:45:33.334Z"
   },
   {
    "duration": 228,
    "start_time": "2022-12-09T21:45:34.530Z"
   },
   {
    "duration": 13,
    "start_time": "2022-12-09T21:45:34.760Z"
   },
   {
    "duration": 29,
    "start_time": "2022-12-09T21:45:34.776Z"
   },
   {
    "duration": 17,
    "start_time": "2022-12-09T21:45:34.807Z"
   },
   {
    "duration": 37,
    "start_time": "2022-12-09T21:45:34.826Z"
   },
   {
    "duration": 22,
    "start_time": "2022-12-09T21:45:34.865Z"
   },
   {
    "duration": 18,
    "start_time": "2022-12-09T21:45:34.889Z"
   },
   {
    "duration": 45,
    "start_time": "2022-12-09T21:45:34.909Z"
   },
   {
    "duration": 26,
    "start_time": "2022-12-09T21:45:34.957Z"
   },
   {
    "duration": 32,
    "start_time": "2022-12-09T21:45:34.986Z"
   },
   {
    "duration": 31,
    "start_time": "2022-12-09T21:45:35.020Z"
   },
   {
    "duration": 40,
    "start_time": "2022-12-09T21:45:35.053Z"
   },
   {
    "duration": 15,
    "start_time": "2022-12-09T21:45:35.095Z"
   },
   {
    "duration": 25,
    "start_time": "2022-12-09T21:45:35.112Z"
   },
   {
    "duration": 13,
    "start_time": "2022-12-09T21:45:35.139Z"
   },
   {
    "duration": 13,
    "start_time": "2022-12-09T21:45:35.153Z"
   },
   {
    "duration": 629,
    "start_time": "2022-12-09T21:45:35.168Z"
   },
   {
    "duration": 376,
    "start_time": "2022-12-09T21:45:35.799Z"
   },
   {
    "duration": 13,
    "start_time": "2022-12-09T21:45:36.176Z"
   },
   {
    "duration": 460,
    "start_time": "2022-12-09T21:45:36.191Z"
   },
   {
    "duration": 379,
    "start_time": "2022-12-09T21:45:36.653Z"
   },
   {
    "duration": 435,
    "start_time": "2022-12-09T21:45:37.034Z"
   },
   {
    "duration": 305,
    "start_time": "2022-12-09T21:45:37.472Z"
   },
   {
    "duration": 5,
    "start_time": "2022-12-09T21:45:37.778Z"
   },
   {
    "duration": 8,
    "start_time": "2022-12-09T21:45:37.785Z"
   },
   {
    "duration": 202,
    "start_time": "2022-12-09T21:45:37.794Z"
   },
   {
    "duration": 5,
    "start_time": "2022-12-09T21:45:37.999Z"
   },
   {
    "duration": 12,
    "start_time": "2022-12-09T21:45:38.014Z"
   },
   {
    "duration": 293,
    "start_time": "2022-12-09T21:45:38.029Z"
   },
   {
    "duration": 26,
    "start_time": "2022-12-09T21:45:38.329Z"
   },
   {
    "duration": 135,
    "start_time": "2022-12-09T21:45:38.356Z"
   },
   {
    "duration": 30,
    "start_time": "2022-12-09T21:45:38.492Z"
   },
   {
    "duration": 12,
    "start_time": "2022-12-09T21:45:38.526Z"
   },
   {
    "duration": 9,
    "start_time": "2022-12-09T21:45:38.540Z"
   },
   {
    "duration": 16,
    "start_time": "2022-12-09T21:45:38.551Z"
   },
   {
    "duration": 26,
    "start_time": "2022-12-09T21:45:38.569Z"
   },
   {
    "duration": 22,
    "start_time": "2022-12-09T21:45:38.616Z"
   },
   {
    "duration": 14,
    "start_time": "2022-12-09T21:52:55.039Z"
   },
   {
    "duration": 10,
    "start_time": "2022-12-09T22:15:38.829Z"
   },
   {
    "duration": 4,
    "start_time": "2022-12-09T22:22:14.147Z"
   },
   {
    "duration": 5,
    "start_time": "2022-12-09T22:26:30.489Z"
   },
   {
    "duration": 5,
    "start_time": "2022-12-09T22:26:57.126Z"
   },
   {
    "duration": 6,
    "start_time": "2022-12-09T22:27:19.522Z"
   },
   {
    "duration": 4,
    "start_time": "2022-12-09T22:36:25.169Z"
   },
   {
    "duration": 635,
    "start_time": "2022-12-09T22:43:54.888Z"
   },
   {
    "duration": 622,
    "start_time": "2022-12-09T22:44:01.839Z"
   },
   {
    "duration": 514,
    "start_time": "2022-12-09T22:44:38.370Z"
   },
   {
    "duration": 624,
    "start_time": "2022-12-09T22:44:52.284Z"
   },
   {
    "duration": 623,
    "start_time": "2022-12-09T22:45:50.848Z"
   },
   {
    "duration": 632,
    "start_time": "2022-12-09T22:47:12.800Z"
   },
   {
    "duration": 701,
    "start_time": "2022-12-09T22:47:23.412Z"
   },
   {
    "duration": 624,
    "start_time": "2022-12-09T22:47:32.675Z"
   },
   {
    "duration": 640,
    "start_time": "2022-12-09T22:47:46.871Z"
   },
   {
    "duration": 342,
    "start_time": "2022-12-09T22:48:35.490Z"
   },
   {
    "duration": 341,
    "start_time": "2022-12-09T22:48:47.358Z"
   },
   {
    "duration": 358,
    "start_time": "2022-12-09T22:48:56.829Z"
   },
   {
    "duration": 606,
    "start_time": "2022-12-09T22:49:06.282Z"
   },
   {
    "duration": 524,
    "start_time": "2022-12-09T22:49:41.764Z"
   },
   {
    "duration": 402,
    "start_time": "2022-12-09T22:50:01.454Z"
   },
   {
    "duration": 469,
    "start_time": "2022-12-09T22:50:08.984Z"
   },
   {
    "duration": 445,
    "start_time": "2022-12-09T22:50:25.222Z"
   },
   {
    "duration": 450,
    "start_time": "2022-12-09T22:50:32.537Z"
   },
   {
    "duration": 457,
    "start_time": "2022-12-09T22:50:41.107Z"
   },
   {
    "duration": 417,
    "start_time": "2022-12-09T22:51:07.543Z"
   },
   {
    "duration": 387,
    "start_time": "2022-12-09T22:51:57.955Z"
   },
   {
    "duration": 367,
    "start_time": "2022-12-09T22:52:08.995Z"
   },
   {
    "duration": 511,
    "start_time": "2022-12-09T22:53:40.048Z"
   },
   {
    "duration": 499,
    "start_time": "2022-12-09T22:53:49.686Z"
   },
   {
    "duration": 550,
    "start_time": "2022-12-09T22:53:57.032Z"
   },
   {
    "duration": 323,
    "start_time": "2022-12-09T22:54:43.539Z"
   },
   {
    "duration": 218,
    "start_time": "2022-12-09T22:57:30.997Z"
   },
   {
    "duration": 99,
    "start_time": "2022-12-09T22:58:43.092Z"
   },
   {
    "duration": 10,
    "start_time": "2022-12-09T23:00:15.728Z"
   },
   {
    "duration": 9,
    "start_time": "2022-12-09T23:00:35.090Z"
   },
   {
    "duration": 8,
    "start_time": "2022-12-09T23:00:52.830Z"
   },
   {
    "duration": 9,
    "start_time": "2022-12-09T23:04:30.951Z"
   },
   {
    "duration": 8,
    "start_time": "2022-12-09T23:04:40.029Z"
   },
   {
    "duration": 16,
    "start_time": "2022-12-09T23:08:29.699Z"
   },
   {
    "duration": 8,
    "start_time": "2022-12-09T23:14:04.078Z"
   },
   {
    "duration": 20,
    "start_time": "2022-12-09T23:17:07.364Z"
   },
   {
    "duration": 15,
    "start_time": "2022-12-09T23:17:24.389Z"
   },
   {
    "duration": 1233,
    "start_time": "2022-12-09T23:17:33.990Z"
   },
   {
    "duration": 83,
    "start_time": "2022-12-09T23:17:35.224Z"
   },
   {
    "duration": 20,
    "start_time": "2022-12-09T23:17:35.309Z"
   },
   {
    "duration": 13,
    "start_time": "2022-12-09T23:17:35.331Z"
   },
   {
    "duration": 3,
    "start_time": "2022-12-09T23:17:35.346Z"
   },
   {
    "duration": 10,
    "start_time": "2022-12-09T23:17:35.351Z"
   },
   {
    "duration": 9,
    "start_time": "2022-12-09T23:17:35.362Z"
   },
   {
    "duration": 56,
    "start_time": "2022-12-09T23:17:35.373Z"
   },
   {
    "duration": 12,
    "start_time": "2022-12-09T23:17:35.431Z"
   },
   {
    "duration": 14,
    "start_time": "2022-12-09T23:17:35.446Z"
   },
   {
    "duration": 6,
    "start_time": "2022-12-09T23:17:35.462Z"
   },
   {
    "duration": 48,
    "start_time": "2022-12-09T23:17:35.469Z"
   },
   {
    "duration": 10,
    "start_time": "2022-12-09T23:17:35.521Z"
   },
   {
    "duration": 16,
    "start_time": "2022-12-09T23:17:35.534Z"
   },
   {
    "duration": 6,
    "start_time": "2022-12-09T23:17:35.552Z"
   },
   {
    "duration": 8,
    "start_time": "2022-12-09T23:17:35.560Z"
   },
   {
    "duration": 8,
    "start_time": "2022-12-09T23:17:35.569Z"
   },
   {
    "duration": 58,
    "start_time": "2022-12-09T23:17:35.579Z"
   },
   {
    "duration": 12,
    "start_time": "2022-12-09T23:17:35.639Z"
   },
   {
    "duration": 9,
    "start_time": "2022-12-09T23:17:35.653Z"
   },
   {
    "duration": 10,
    "start_time": "2022-12-09T23:17:35.664Z"
   },
   {
    "duration": 658,
    "start_time": "2022-12-09T23:17:35.676Z"
   },
   {
    "duration": 397,
    "start_time": "2022-12-09T23:17:36.336Z"
   },
   {
    "duration": 13,
    "start_time": "2022-12-09T23:17:36.735Z"
   },
   {
    "duration": 417,
    "start_time": "2022-12-09T23:17:36.750Z"
   },
   {
    "duration": 373,
    "start_time": "2022-12-09T23:17:37.168Z"
   },
   {
    "duration": 447,
    "start_time": "2022-12-09T23:17:37.543Z"
   },
   {
    "duration": 314,
    "start_time": "2022-12-09T23:17:37.993Z"
   },
   {
    "duration": 8,
    "start_time": "2022-12-09T23:17:38.309Z"
   },
   {
    "duration": 20,
    "start_time": "2022-12-09T23:17:38.320Z"
   },
   {
    "duration": 210,
    "start_time": "2022-12-09T23:17:38.342Z"
   },
   {
    "duration": 4,
    "start_time": "2022-12-09T23:17:38.554Z"
   },
   {
    "duration": 7,
    "start_time": "2022-12-09T23:17:38.560Z"
   },
   {
    "duration": 321,
    "start_time": "2022-12-09T23:17:38.568Z"
   },
   {
    "duration": 44,
    "start_time": "2022-12-09T23:17:38.891Z"
   },
   {
    "duration": 148,
    "start_time": "2022-12-09T23:17:38.938Z"
   },
   {
    "duration": 44,
    "start_time": "2022-12-09T23:17:39.087Z"
   },
   {
    "duration": 11,
    "start_time": "2022-12-09T23:17:39.133Z"
   },
   {
    "duration": 13,
    "start_time": "2022-12-09T23:17:39.146Z"
   },
   {
    "duration": 13,
    "start_time": "2022-12-09T23:17:39.161Z"
   },
   {
    "duration": 55,
    "start_time": "2022-12-09T23:17:39.176Z"
   },
   {
    "duration": 17,
    "start_time": "2022-12-09T23:17:39.233Z"
   },
   {
    "duration": 8,
    "start_time": "2022-12-09T23:18:43.082Z"
   },
   {
    "duration": 10,
    "start_time": "2022-12-09T23:21:07.636Z"
   },
   {
    "duration": 9,
    "start_time": "2022-12-09T23:21:11.949Z"
   },
   {
    "duration": 11,
    "start_time": "2022-12-09T23:21:22.630Z"
   },
   {
    "duration": 10,
    "start_time": "2022-12-09T23:21:35.937Z"
   },
   {
    "duration": 123,
    "start_time": "2022-12-09T23:21:46.933Z"
   },
   {
    "duration": 1251,
    "start_time": "2022-12-09T23:22:13.788Z"
   },
   {
    "duration": 86,
    "start_time": "2022-12-09T23:22:15.041Z"
   },
   {
    "duration": 12,
    "start_time": "2022-12-09T23:22:15.129Z"
   },
   {
    "duration": 14,
    "start_time": "2022-12-09T23:22:15.143Z"
   },
   {
    "duration": 3,
    "start_time": "2022-12-09T23:22:15.158Z"
   },
   {
    "duration": 10,
    "start_time": "2022-12-09T23:22:15.163Z"
   },
   {
    "duration": 54,
    "start_time": "2022-12-09T23:22:15.175Z"
   },
   {
    "duration": 12,
    "start_time": "2022-12-09T23:22:15.232Z"
   },
   {
    "duration": 14,
    "start_time": "2022-12-09T23:22:15.245Z"
   },
   {
    "duration": 13,
    "start_time": "2022-12-09T23:22:15.262Z"
   },
   {
    "duration": 6,
    "start_time": "2022-12-09T23:22:15.276Z"
   },
   {
    "duration": 17,
    "start_time": "2022-12-09T23:22:15.320Z"
   },
   {
    "duration": 11,
    "start_time": "2022-12-09T23:22:15.338Z"
   },
   {
    "duration": 11,
    "start_time": "2022-12-09T23:22:15.350Z"
   },
   {
    "duration": 10,
    "start_time": "2022-12-09T23:22:15.362Z"
   },
   {
    "duration": 43,
    "start_time": "2022-12-09T23:22:15.374Z"
   },
   {
    "duration": 25,
    "start_time": "2022-12-09T23:22:15.419Z"
   },
   {
    "duration": 8,
    "start_time": "2022-12-09T23:22:15.446Z"
   },
   {
    "duration": 12,
    "start_time": "2022-12-09T23:22:15.456Z"
   },
   {
    "duration": 8,
    "start_time": "2022-12-09T23:22:15.470Z"
   },
   {
    "duration": 42,
    "start_time": "2022-12-09T23:22:15.480Z"
   },
   {
    "duration": 668,
    "start_time": "2022-12-09T23:22:15.525Z"
   },
   {
    "duration": 370,
    "start_time": "2022-12-09T23:22:16.195Z"
   },
   {
    "duration": 12,
    "start_time": "2022-12-09T23:22:16.567Z"
   },
   {
    "duration": 504,
    "start_time": "2022-12-09T23:22:16.581Z"
   },
   {
    "duration": 377,
    "start_time": "2022-12-09T23:22:17.086Z"
   },
   {
    "duration": 508,
    "start_time": "2022-12-09T23:22:17.465Z"
   },
   {
    "duration": 302,
    "start_time": "2022-12-09T23:22:17.978Z"
   },
   {
    "duration": 4,
    "start_time": "2022-12-09T23:22:18.281Z"
   },
   {
    "duration": 7,
    "start_time": "2022-12-09T23:22:18.287Z"
   },
   {
    "duration": 202,
    "start_time": "2022-12-09T23:22:18.315Z"
   },
   {
    "duration": 9,
    "start_time": "2022-12-09T23:22:18.520Z"
   },
   {
    "duration": 8,
    "start_time": "2022-12-09T23:22:18.531Z"
   },
   {
    "duration": 313,
    "start_time": "2022-12-09T23:22:18.541Z"
   },
   {
    "duration": 27,
    "start_time": "2022-12-09T23:22:18.855Z"
   },
   {
    "duration": 174,
    "start_time": "2022-12-09T23:22:18.883Z"
   },
   {
    "duration": 24,
    "start_time": "2022-12-09T23:22:19.059Z"
   },
   {
    "duration": 33,
    "start_time": "2022-12-09T23:22:19.085Z"
   },
   {
    "duration": 10,
    "start_time": "2022-12-09T23:22:19.120Z"
   },
   {
    "duration": 21,
    "start_time": "2022-12-09T23:22:19.132Z"
   },
   {
    "duration": 28,
    "start_time": "2022-12-09T23:22:19.155Z"
   },
   {
    "duration": 37,
    "start_time": "2022-12-09T23:22:19.185Z"
   },
   {
    "duration": 14,
    "start_time": "2022-12-09T23:23:46.765Z"
   },
   {
    "duration": 16,
    "start_time": "2022-12-09T23:24:00.270Z"
   },
   {
    "duration": 72,
    "start_time": "2022-12-09T23:24:19.855Z"
   },
   {
    "duration": 10,
    "start_time": "2022-12-09T23:24:27.026Z"
   },
   {
    "duration": 7,
    "start_time": "2022-12-09T23:24:57.462Z"
   },
   {
    "duration": 11,
    "start_time": "2022-12-09T23:25:00.567Z"
   },
   {
    "duration": 9,
    "start_time": "2022-12-09T23:25:53.531Z"
   },
   {
    "duration": 8,
    "start_time": "2022-12-09T23:26:07.031Z"
   },
   {
    "duration": 9,
    "start_time": "2022-12-09T23:26:42.892Z"
   },
   {
    "duration": 13,
    "start_time": "2022-12-09T23:30:39.338Z"
   },
   {
    "duration": 399,
    "start_time": "2022-12-09T23:31:05.329Z"
   },
   {
    "duration": 14,
    "start_time": "2022-12-09T23:31:32.210Z"
   },
   {
    "duration": 371,
    "start_time": "2022-12-09T23:31:57.939Z"
   },
   {
    "duration": 311,
    "start_time": "2022-12-09T23:32:18.026Z"
   },
   {
    "duration": 1207,
    "start_time": "2022-12-09T23:32:25.483Z"
   },
   {
    "duration": 91,
    "start_time": "2022-12-09T23:32:26.692Z"
   },
   {
    "duration": 13,
    "start_time": "2022-12-09T23:32:26.785Z"
   },
   {
    "duration": 22,
    "start_time": "2022-12-09T23:32:26.800Z"
   },
   {
    "duration": 15,
    "start_time": "2022-12-09T23:32:26.824Z"
   },
   {
    "duration": 10,
    "start_time": "2022-12-09T23:32:26.841Z"
   },
   {
    "duration": 12,
    "start_time": "2022-12-09T23:32:26.853Z"
   },
   {
    "duration": 11,
    "start_time": "2022-12-09T23:32:26.867Z"
   },
   {
    "duration": 51,
    "start_time": "2022-12-09T23:32:26.881Z"
   },
   {
    "duration": 11,
    "start_time": "2022-12-09T23:32:26.936Z"
   },
   {
    "duration": 8,
    "start_time": "2022-12-09T23:32:26.949Z"
   },
   {
    "duration": 27,
    "start_time": "2022-12-09T23:32:26.959Z"
   },
   {
    "duration": 27,
    "start_time": "2022-12-09T23:32:26.988Z"
   },
   {
    "duration": 13,
    "start_time": "2022-12-09T23:32:27.023Z"
   },
   {
    "duration": 12,
    "start_time": "2022-12-09T23:32:27.038Z"
   },
   {
    "duration": 7,
    "start_time": "2022-12-09T23:32:27.052Z"
   },
   {
    "duration": 8,
    "start_time": "2022-12-09T23:32:27.061Z"
   },
   {
    "duration": 6,
    "start_time": "2022-12-09T23:32:27.071Z"
   },
   {
    "duration": 40,
    "start_time": "2022-12-09T23:32:27.079Z"
   },
   {
    "duration": 9,
    "start_time": "2022-12-09T23:32:27.126Z"
   },
   {
    "duration": 10,
    "start_time": "2022-12-09T23:32:27.137Z"
   },
   {
    "duration": 10,
    "start_time": "2022-12-09T23:32:27.148Z"
   },
   {
    "duration": 10,
    "start_time": "2022-12-09T23:32:27.160Z"
   },
   {
    "duration": 659,
    "start_time": "2022-12-09T23:32:27.172Z"
   },
   {
    "duration": 257,
    "start_time": "2022-12-09T23:32:27.835Z"
   },
   {
    "duration": 22,
    "start_time": "2022-12-09T23:32:28.094Z"
   },
   {
    "duration": 370,
    "start_time": "2022-12-09T23:32:28.122Z"
   },
   {
    "duration": 284,
    "start_time": "2022-12-09T23:32:28.495Z"
   },
   {
    "duration": 490,
    "start_time": "2022-12-09T23:32:28.781Z"
   },
   {
    "duration": 0,
    "start_time": "2022-12-09T23:32:29.273Z"
   },
   {
    "duration": 0,
    "start_time": "2022-12-09T23:32:29.274Z"
   },
   {
    "duration": 0,
    "start_time": "2022-12-09T23:32:29.275Z"
   },
   {
    "duration": 0,
    "start_time": "2022-12-09T23:32:29.276Z"
   },
   {
    "duration": 0,
    "start_time": "2022-12-09T23:32:29.277Z"
   },
   {
    "duration": 0,
    "start_time": "2022-12-09T23:32:29.279Z"
   },
   {
    "duration": 0,
    "start_time": "2022-12-09T23:32:29.280Z"
   },
   {
    "duration": 0,
    "start_time": "2022-12-09T23:32:29.281Z"
   },
   {
    "duration": 0,
    "start_time": "2022-12-09T23:32:29.282Z"
   },
   {
    "duration": 0,
    "start_time": "2022-12-09T23:32:29.283Z"
   },
   {
    "duration": 0,
    "start_time": "2022-12-09T23:32:29.284Z"
   },
   {
    "duration": 0,
    "start_time": "2022-12-09T23:32:29.286Z"
   },
   {
    "duration": 0,
    "start_time": "2022-12-09T23:32:29.287Z"
   },
   {
    "duration": 0,
    "start_time": "2022-12-09T23:32:29.313Z"
   },
   {
    "duration": 0,
    "start_time": "2022-12-09T23:32:29.314Z"
   },
   {
    "duration": 328,
    "start_time": "2022-12-09T23:34:46.062Z"
   },
   {
    "duration": 389,
    "start_time": "2022-12-09T23:35:01.881Z"
   },
   {
    "duration": 427,
    "start_time": "2022-12-09T23:35:32.860Z"
   },
   {
    "duration": 358,
    "start_time": "2022-12-09T23:35:45.447Z"
   },
   {
    "duration": 1178,
    "start_time": "2022-12-09T23:36:22.166Z"
   },
   {
    "duration": 85,
    "start_time": "2022-12-09T23:36:23.346Z"
   },
   {
    "duration": 14,
    "start_time": "2022-12-09T23:36:23.433Z"
   },
   {
    "duration": 14,
    "start_time": "2022-12-09T23:36:23.450Z"
   },
   {
    "duration": 4,
    "start_time": "2022-12-09T23:36:23.467Z"
   },
   {
    "duration": 12,
    "start_time": "2022-12-09T23:36:23.473Z"
   },
   {
    "duration": 39,
    "start_time": "2022-12-09T23:36:23.487Z"
   },
   {
    "duration": 17,
    "start_time": "2022-12-09T23:36:23.527Z"
   },
   {
    "duration": 11,
    "start_time": "2022-12-09T23:36:23.546Z"
   },
   {
    "duration": 10,
    "start_time": "2022-12-09T23:36:23.560Z"
   },
   {
    "duration": 7,
    "start_time": "2022-12-09T23:36:23.571Z"
   },
   {
    "duration": 47,
    "start_time": "2022-12-09T23:36:23.579Z"
   },
   {
    "duration": 14,
    "start_time": "2022-12-09T23:36:23.628Z"
   },
   {
    "duration": 10,
    "start_time": "2022-12-09T23:36:23.644Z"
   },
   {
    "duration": 11,
    "start_time": "2022-12-09T23:36:23.656Z"
   },
   {
    "duration": 7,
    "start_time": "2022-12-09T23:36:23.668Z"
   },
   {
    "duration": 51,
    "start_time": "2022-12-09T23:36:23.677Z"
   },
   {
    "duration": 8,
    "start_time": "2022-12-09T23:36:23.730Z"
   },
   {
    "duration": 6,
    "start_time": "2022-12-09T23:36:23.740Z"
   },
   {
    "duration": 9,
    "start_time": "2022-12-09T23:36:23.748Z"
   },
   {
    "duration": 11,
    "start_time": "2022-12-09T23:36:23.759Z"
   },
   {
    "duration": 44,
    "start_time": "2022-12-09T23:36:23.772Z"
   },
   {
    "duration": 28,
    "start_time": "2022-12-09T23:36:23.817Z"
   },
   {
    "duration": 657,
    "start_time": "2022-12-09T23:36:23.847Z"
   },
   {
    "duration": 283,
    "start_time": "2022-12-09T23:36:24.506Z"
   },
   {
    "duration": 31,
    "start_time": "2022-12-09T23:36:24.790Z"
   },
   {
    "duration": 346,
    "start_time": "2022-12-09T23:36:24.824Z"
   },
   {
    "duration": 287,
    "start_time": "2022-12-09T23:36:25.174Z"
   },
   {
    "duration": 385,
    "start_time": "2022-12-09T23:36:25.463Z"
   },
   {
    "duration": 311,
    "start_time": "2022-12-09T23:36:25.850Z"
   },
   {
    "duration": 3,
    "start_time": "2022-12-09T23:36:26.163Z"
   },
   {
    "duration": 7,
    "start_time": "2022-12-09T23:36:26.168Z"
   },
   {
    "duration": 226,
    "start_time": "2022-12-09T23:36:26.177Z"
   },
   {
    "duration": 7,
    "start_time": "2022-12-09T23:36:26.414Z"
   },
   {
    "duration": 10,
    "start_time": "2022-12-09T23:36:26.425Z"
   },
   {
    "duration": 309,
    "start_time": "2022-12-09T23:36:26.437Z"
   },
   {
    "duration": 24,
    "start_time": "2022-12-09T23:36:26.748Z"
   },
   {
    "duration": 164,
    "start_time": "2022-12-09T23:36:26.774Z"
   },
   {
    "duration": 27,
    "start_time": "2022-12-09T23:36:26.940Z"
   },
   {
    "duration": 14,
    "start_time": "2022-12-09T23:36:26.970Z"
   },
   {
    "duration": 43,
    "start_time": "2022-12-09T23:36:26.986Z"
   },
   {
    "duration": 13,
    "start_time": "2022-12-09T23:36:27.031Z"
   },
   {
    "duration": 22,
    "start_time": "2022-12-09T23:36:27.046Z"
   },
   {
    "duration": 53,
    "start_time": "2022-12-09T23:36:27.070Z"
   },
   {
    "duration": 10,
    "start_time": "2022-12-09T23:39:18.026Z"
   },
   {
    "duration": 7,
    "start_time": "2022-12-09T23:39:26.888Z"
   },
   {
    "duration": 72,
    "start_time": "2022-12-09T23:41:20.729Z"
   },
   {
    "duration": 125,
    "start_time": "2022-12-09T23:49:43.003Z"
   },
   {
    "duration": 9,
    "start_time": "2022-12-09T23:50:35.584Z"
   },
   {
    "duration": 21,
    "start_time": "2022-12-09T23:52:05.311Z"
   },
   {
    "duration": 12,
    "start_time": "2022-12-09T23:52:15.164Z"
   },
   {
    "duration": 1264,
    "start_time": "2022-12-09T23:52:22.868Z"
   },
   {
    "duration": 84,
    "start_time": "2022-12-09T23:52:24.135Z"
   },
   {
    "duration": 18,
    "start_time": "2022-12-09T23:52:24.223Z"
   },
   {
    "duration": 19,
    "start_time": "2022-12-09T23:52:24.243Z"
   },
   {
    "duration": 5,
    "start_time": "2022-12-09T23:52:24.264Z"
   },
   {
    "duration": 14,
    "start_time": "2022-12-09T23:52:24.271Z"
   },
   {
    "duration": 38,
    "start_time": "2022-12-09T23:52:24.287Z"
   },
   {
    "duration": 34,
    "start_time": "2022-12-09T23:52:24.327Z"
   },
   {
    "duration": 15,
    "start_time": "2022-12-09T23:52:24.363Z"
   },
   {
    "duration": 11,
    "start_time": "2022-12-09T23:52:24.381Z"
   },
   {
    "duration": 26,
    "start_time": "2022-12-09T23:52:24.394Z"
   },
   {
    "duration": 25,
    "start_time": "2022-12-09T23:52:24.423Z"
   },
   {
    "duration": 12,
    "start_time": "2022-12-09T23:52:24.451Z"
   },
   {
    "duration": 15,
    "start_time": "2022-12-09T23:52:24.465Z"
   },
   {
    "duration": 42,
    "start_time": "2022-12-09T23:52:24.483Z"
   },
   {
    "duration": 22,
    "start_time": "2022-12-09T23:52:24.533Z"
   },
   {
    "duration": 10,
    "start_time": "2022-12-09T23:52:24.557Z"
   },
   {
    "duration": 12,
    "start_time": "2022-12-09T23:52:24.569Z"
   },
   {
    "duration": 16,
    "start_time": "2022-12-09T23:52:24.583Z"
   },
   {
    "duration": 28,
    "start_time": "2022-12-09T23:52:24.600Z"
   },
   {
    "duration": 42,
    "start_time": "2022-12-09T23:52:24.629Z"
   },
   {
    "duration": 12,
    "start_time": "2022-12-09T23:52:24.674Z"
   },
   {
    "duration": 17,
    "start_time": "2022-12-09T23:52:24.689Z"
   },
   {
    "duration": 37,
    "start_time": "2022-12-09T23:52:24.708Z"
   },
   {
    "duration": 696,
    "start_time": "2022-12-09T23:52:24.748Z"
   },
   {
    "duration": 375,
    "start_time": "2022-12-09T23:52:25.446Z"
   },
   {
    "duration": 18,
    "start_time": "2022-12-09T23:52:25.828Z"
   },
   {
    "duration": 419,
    "start_time": "2022-12-09T23:52:25.852Z"
   },
   {
    "duration": 297,
    "start_time": "2022-12-09T23:52:26.274Z"
   },
   {
    "duration": 460,
    "start_time": "2022-12-09T23:52:26.574Z"
   },
   {
    "duration": 405,
    "start_time": "2022-12-09T23:52:27.037Z"
   },
   {
    "duration": 6,
    "start_time": "2022-12-09T23:52:27.444Z"
   },
   {
    "duration": 11,
    "start_time": "2022-12-09T23:52:27.452Z"
   },
   {
    "duration": 223,
    "start_time": "2022-12-09T23:52:27.465Z"
   },
   {
    "duration": 6,
    "start_time": "2022-12-09T23:52:27.691Z"
   },
   {
    "duration": 26,
    "start_time": "2022-12-09T23:52:27.699Z"
   },
   {
    "duration": 359,
    "start_time": "2022-12-09T23:52:27.727Z"
   },
   {
    "duration": 50,
    "start_time": "2022-12-09T23:52:28.089Z"
   },
   {
    "duration": 161,
    "start_time": "2022-12-09T23:52:28.141Z"
   },
   {
    "duration": 42,
    "start_time": "2022-12-09T23:52:28.304Z"
   },
   {
    "duration": 12,
    "start_time": "2022-12-09T23:52:28.348Z"
   },
   {
    "duration": 11,
    "start_time": "2022-12-09T23:52:28.362Z"
   },
   {
    "duration": 61,
    "start_time": "2022-12-09T23:52:28.375Z"
   },
   {
    "duration": 39,
    "start_time": "2022-12-09T23:52:28.438Z"
   },
   {
    "duration": 41,
    "start_time": "2022-12-09T23:52:28.480Z"
   },
   {
    "duration": 1200,
    "start_time": "2022-12-09T23:53:38.526Z"
   },
   {
    "duration": 81,
    "start_time": "2022-12-09T23:53:39.729Z"
   },
   {
    "duration": 18,
    "start_time": "2022-12-09T23:53:39.812Z"
   },
   {
    "duration": 15,
    "start_time": "2022-12-09T23:53:39.832Z"
   },
   {
    "duration": 5,
    "start_time": "2022-12-09T23:53:39.849Z"
   },
   {
    "duration": 13,
    "start_time": "2022-12-09T23:53:39.856Z"
   },
   {
    "duration": 9,
    "start_time": "2022-12-09T23:53:39.871Z"
   },
   {
    "duration": 44,
    "start_time": "2022-12-09T23:53:39.881Z"
   },
   {
    "duration": 20,
    "start_time": "2022-12-09T23:53:39.927Z"
   },
   {
    "duration": 10,
    "start_time": "2022-12-09T23:53:39.949Z"
   },
   {
    "duration": 7,
    "start_time": "2022-12-09T23:53:39.961Z"
   },
   {
    "duration": 14,
    "start_time": "2022-12-09T23:53:39.970Z"
   },
   {
    "duration": 34,
    "start_time": "2022-12-09T23:53:39.986Z"
   },
   {
    "duration": 19,
    "start_time": "2022-12-09T23:53:40.024Z"
   },
   {
    "duration": 14,
    "start_time": "2022-12-09T23:53:40.045Z"
   },
   {
    "duration": 11,
    "start_time": "2022-12-09T23:53:40.061Z"
   },
   {
    "duration": 7,
    "start_time": "2022-12-09T23:53:40.075Z"
   },
   {
    "duration": 8,
    "start_time": "2022-12-09T23:53:40.084Z"
   },
   {
    "duration": 24,
    "start_time": "2022-12-09T23:53:40.094Z"
   },
   {
    "duration": 19,
    "start_time": "2022-12-09T23:53:40.120Z"
   },
   {
    "duration": 9,
    "start_time": "2022-12-09T23:53:40.141Z"
   },
   {
    "duration": 8,
    "start_time": "2022-12-09T23:53:40.151Z"
   },
   {
    "duration": 11,
    "start_time": "2022-12-09T23:53:40.161Z"
   },
   {
    "duration": 726,
    "start_time": "2022-12-09T23:53:40.173Z"
   },
   {
    "duration": 293,
    "start_time": "2022-12-09T23:53:40.901Z"
   },
   {
    "duration": 26,
    "start_time": "2022-12-09T23:53:41.196Z"
   },
   {
    "duration": 352,
    "start_time": "2022-12-09T23:53:41.224Z"
   },
   {
    "duration": 288,
    "start_time": "2022-12-09T23:53:41.577Z"
   },
   {
    "duration": 415,
    "start_time": "2022-12-09T23:53:41.867Z"
   },
   {
    "duration": 304,
    "start_time": "2022-12-09T23:53:42.285Z"
   },
   {
    "duration": 5,
    "start_time": "2022-12-09T23:53:42.591Z"
   },
   {
    "duration": 28,
    "start_time": "2022-12-09T23:53:42.598Z"
   },
   {
    "duration": 208,
    "start_time": "2022-12-09T23:53:42.629Z"
   },
   {
    "duration": 4,
    "start_time": "2022-12-09T23:53:42.839Z"
   },
   {
    "duration": 6,
    "start_time": "2022-12-09T23:53:42.845Z"
   },
   {
    "duration": 318,
    "start_time": "2022-12-09T23:53:42.852Z"
   },
   {
    "duration": 26,
    "start_time": "2022-12-09T23:53:43.172Z"
   },
   {
    "duration": 170,
    "start_time": "2022-12-09T23:53:43.215Z"
   },
   {
    "duration": 43,
    "start_time": "2022-12-09T23:53:43.387Z"
   },
   {
    "duration": 14,
    "start_time": "2022-12-09T23:53:43.432Z"
   },
   {
    "duration": 9,
    "start_time": "2022-12-09T23:53:43.450Z"
   },
   {
    "duration": 11,
    "start_time": "2022-12-09T23:53:43.461Z"
   },
   {
    "duration": 65,
    "start_time": "2022-12-09T23:53:43.474Z"
   },
   {
    "duration": 16,
    "start_time": "2022-12-09T23:53:43.540Z"
   },
   {
    "duration": 1293,
    "start_time": "2022-12-09T23:55:05.314Z"
   },
   {
    "duration": 74,
    "start_time": "2022-12-09T23:55:06.609Z"
   },
   {
    "duration": 12,
    "start_time": "2022-12-09T23:55:06.685Z"
   },
   {
    "duration": 28,
    "start_time": "2022-12-09T23:55:06.700Z"
   },
   {
    "duration": 8,
    "start_time": "2022-12-09T23:55:06.730Z"
   },
   {
    "duration": 12,
    "start_time": "2022-12-09T23:55:06.740Z"
   },
   {
    "duration": 12,
    "start_time": "2022-12-09T23:55:06.754Z"
   },
   {
    "duration": 15,
    "start_time": "2022-12-09T23:55:06.769Z"
   },
   {
    "duration": 15,
    "start_time": "2022-12-09T23:55:06.786Z"
   },
   {
    "duration": 19,
    "start_time": "2022-12-09T23:55:06.813Z"
   },
   {
    "duration": 8,
    "start_time": "2022-12-09T23:55:06.835Z"
   },
   {
    "duration": 15,
    "start_time": "2022-12-09T23:55:06.844Z"
   },
   {
    "duration": 18,
    "start_time": "2022-12-09T23:55:06.861Z"
   },
   {
    "duration": 23,
    "start_time": "2022-12-09T23:55:06.913Z"
   },
   {
    "duration": 26,
    "start_time": "2022-12-09T23:55:06.939Z"
   },
   {
    "duration": 9,
    "start_time": "2022-12-09T23:55:06.968Z"
   },
   {
    "duration": 13,
    "start_time": "2022-12-09T23:55:06.979Z"
   },
   {
    "duration": 7,
    "start_time": "2022-12-09T23:55:06.994Z"
   },
   {
    "duration": 35,
    "start_time": "2022-12-09T23:55:07.003Z"
   },
   {
    "duration": 16,
    "start_time": "2022-12-09T23:55:07.041Z"
   },
   {
    "duration": 9,
    "start_time": "2022-12-09T23:55:07.059Z"
   },
   {
    "duration": 11,
    "start_time": "2022-12-09T23:55:07.070Z"
   },
   {
    "duration": 34,
    "start_time": "2022-12-09T23:55:07.083Z"
   },
   {
    "duration": 657,
    "start_time": "2022-12-09T23:55:07.119Z"
   },
   {
    "duration": 279,
    "start_time": "2022-12-09T23:55:07.778Z"
   },
   {
    "duration": 13,
    "start_time": "2022-12-09T23:55:08.059Z"
   },
   {
    "duration": 429,
    "start_time": "2022-12-09T23:55:08.074Z"
   },
   {
    "duration": 292,
    "start_time": "2022-12-09T23:55:08.507Z"
   },
   {
    "duration": 390,
    "start_time": "2022-12-09T23:55:08.801Z"
   },
   {
    "duration": 314,
    "start_time": "2022-12-09T23:55:09.193Z"
   },
   {
    "duration": 8,
    "start_time": "2022-12-09T23:55:09.517Z"
   },
   {
    "duration": 19,
    "start_time": "2022-12-09T23:55:09.528Z"
   },
   {
    "duration": 244,
    "start_time": "2022-12-09T23:55:09.549Z"
   },
   {
    "duration": 6,
    "start_time": "2022-12-09T23:55:09.794Z"
   },
   {
    "duration": 69,
    "start_time": "2022-12-09T23:55:09.802Z"
   },
   {
    "duration": 294,
    "start_time": "2022-12-09T23:55:09.873Z"
   },
   {
    "duration": 24,
    "start_time": "2022-12-09T23:55:10.169Z"
   },
   {
    "duration": 339,
    "start_time": "2022-12-09T23:55:10.194Z"
   },
   {
    "duration": 29,
    "start_time": "2022-12-09T23:55:10.535Z"
   },
   {
    "duration": 12,
    "start_time": "2022-12-09T23:55:10.566Z"
   },
   {
    "duration": 38,
    "start_time": "2022-12-09T23:55:10.581Z"
   },
   {
    "duration": 30,
    "start_time": "2022-12-09T23:55:10.621Z"
   },
   {
    "duration": 22,
    "start_time": "2022-12-09T23:55:10.653Z"
   },
   {
    "duration": 14,
    "start_time": "2022-12-09T23:55:10.677Z"
   },
   {
    "duration": 1267,
    "start_time": "2022-12-09T23:55:25.741Z"
   },
   {
    "duration": 84,
    "start_time": "2022-12-09T23:55:27.010Z"
   },
   {
    "duration": 12,
    "start_time": "2022-12-09T23:55:27.096Z"
   },
   {
    "duration": 19,
    "start_time": "2022-12-09T23:55:27.111Z"
   },
   {
    "duration": 14,
    "start_time": "2022-12-09T23:55:27.132Z"
   },
   {
    "duration": 12,
    "start_time": "2022-12-09T23:55:27.148Z"
   },
   {
    "duration": 11,
    "start_time": "2022-12-09T23:55:27.162Z"
   },
   {
    "duration": 12,
    "start_time": "2022-12-09T23:55:27.176Z"
   },
   {
    "duration": 52,
    "start_time": "2022-12-09T23:55:27.190Z"
   },
   {
    "duration": 9,
    "start_time": "2022-12-09T23:55:27.246Z"
   },
   {
    "duration": 6,
    "start_time": "2022-12-09T23:55:27.256Z"
   },
   {
    "duration": 15,
    "start_time": "2022-12-09T23:55:27.263Z"
   },
   {
    "duration": 39,
    "start_time": "2022-12-09T23:55:27.279Z"
   },
   {
    "duration": 27,
    "start_time": "2022-12-09T23:55:27.320Z"
   },
   {
    "duration": 12,
    "start_time": "2022-12-09T23:55:27.349Z"
   },
   {
    "duration": 9,
    "start_time": "2022-12-09T23:55:27.363Z"
   },
   {
    "duration": 6,
    "start_time": "2022-12-09T23:55:27.375Z"
   },
   {
    "duration": 8,
    "start_time": "2022-12-09T23:55:27.383Z"
   },
   {
    "duration": 14,
    "start_time": "2022-12-09T23:55:27.415Z"
   },
   {
    "duration": 12,
    "start_time": "2022-12-09T23:55:27.433Z"
   },
   {
    "duration": 12,
    "start_time": "2022-12-09T23:55:27.447Z"
   },
   {
    "duration": 14,
    "start_time": "2022-12-09T23:55:27.461Z"
   },
   {
    "duration": 13,
    "start_time": "2022-12-09T23:55:27.476Z"
   },
   {
    "duration": 659,
    "start_time": "2022-12-09T23:55:27.514Z"
   },
   {
    "duration": 273,
    "start_time": "2022-12-09T23:55:28.175Z"
   },
   {
    "duration": 12,
    "start_time": "2022-12-09T23:55:28.450Z"
   },
   {
    "duration": 438,
    "start_time": "2022-12-09T23:55:28.464Z"
   },
   {
    "duration": 316,
    "start_time": "2022-12-09T23:55:28.914Z"
   },
   {
    "duration": 414,
    "start_time": "2022-12-09T23:55:29.233Z"
   },
   {
    "duration": 305,
    "start_time": "2022-12-09T23:55:29.648Z"
   },
   {
    "duration": 5,
    "start_time": "2022-12-09T23:55:29.955Z"
   },
   {
    "duration": 8,
    "start_time": "2022-12-09T23:55:29.961Z"
   },
   {
    "duration": 222,
    "start_time": "2022-12-09T23:55:29.971Z"
   },
   {
    "duration": 4,
    "start_time": "2022-12-09T23:55:30.195Z"
   },
   {
    "duration": 33,
    "start_time": "2022-12-09T23:55:30.212Z"
   },
   {
    "duration": 394,
    "start_time": "2022-12-09T23:55:30.248Z"
   },
   {
    "duration": 30,
    "start_time": "2022-12-09T23:55:30.644Z"
   },
   {
    "duration": 176,
    "start_time": "2022-12-09T23:55:30.676Z"
   },
   {
    "duration": 25,
    "start_time": "2022-12-09T23:55:30.854Z"
   },
   {
    "duration": 41,
    "start_time": "2022-12-09T23:55:30.882Z"
   },
   {
    "duration": 13,
    "start_time": "2022-12-09T23:55:30.930Z"
   },
   {
    "duration": 31,
    "start_time": "2022-12-09T23:55:30.945Z"
   },
   {
    "duration": 71,
    "start_time": "2022-12-09T23:55:30.979Z"
   },
   {
    "duration": 27,
    "start_time": "2022-12-09T23:55:31.053Z"
   },
   {
    "duration": 1192,
    "start_time": "2022-12-10T00:04:53.555Z"
   },
   {
    "duration": 79,
    "start_time": "2022-12-10T00:04:54.749Z"
   },
   {
    "duration": 19,
    "start_time": "2022-12-10T00:04:54.830Z"
   },
   {
    "duration": 30,
    "start_time": "2022-12-10T00:04:54.851Z"
   },
   {
    "duration": 10,
    "start_time": "2022-12-10T00:04:54.882Z"
   },
   {
    "duration": 56,
    "start_time": "2022-12-10T00:04:54.893Z"
   },
   {
    "duration": 22,
    "start_time": "2022-12-10T00:04:54.950Z"
   },
   {
    "duration": 37,
    "start_time": "2022-12-10T00:04:54.974Z"
   },
   {
    "duration": 40,
    "start_time": "2022-12-10T00:04:55.013Z"
   },
   {
    "duration": 30,
    "start_time": "2022-12-10T00:04:55.056Z"
   },
   {
    "duration": 19,
    "start_time": "2022-12-10T00:04:55.088Z"
   },
   {
    "duration": 36,
    "start_time": "2022-12-10T00:04:55.109Z"
   },
   {
    "duration": 45,
    "start_time": "2022-12-10T00:04:55.147Z"
   },
   {
    "duration": 37,
    "start_time": "2022-12-10T00:04:55.194Z"
   },
   {
    "duration": 37,
    "start_time": "2022-12-10T00:04:55.234Z"
   },
   {
    "duration": 28,
    "start_time": "2022-12-10T00:04:55.274Z"
   },
   {
    "duration": 29,
    "start_time": "2022-12-10T00:04:55.305Z"
   },
   {
    "duration": 31,
    "start_time": "2022-12-10T00:04:55.335Z"
   },
   {
    "duration": 24,
    "start_time": "2022-12-10T00:04:55.368Z"
   },
   {
    "duration": 37,
    "start_time": "2022-12-10T00:04:55.395Z"
   },
   {
    "duration": 12,
    "start_time": "2022-12-10T00:04:55.435Z"
   },
   {
    "duration": 19,
    "start_time": "2022-12-10T00:04:55.449Z"
   },
   {
    "duration": 13,
    "start_time": "2022-12-10T00:04:55.470Z"
   },
   {
    "duration": 653,
    "start_time": "2022-12-10T00:04:55.485Z"
   },
   {
    "duration": 263,
    "start_time": "2022-12-10T00:04:56.140Z"
   },
   {
    "duration": 19,
    "start_time": "2022-12-10T00:04:56.415Z"
   },
   {
    "duration": 344,
    "start_time": "2022-12-10T00:04:56.436Z"
   },
   {
    "duration": 311,
    "start_time": "2022-12-10T00:04:56.785Z"
   },
   {
    "duration": 408,
    "start_time": "2022-12-10T00:04:57.098Z"
   },
   {
    "duration": 308,
    "start_time": "2022-12-10T00:04:57.507Z"
   },
   {
    "duration": 13,
    "start_time": "2022-12-10T00:04:57.817Z"
   },
   {
    "duration": 7,
    "start_time": "2022-12-10T00:04:57.832Z"
   },
   {
    "duration": 207,
    "start_time": "2022-12-10T00:04:57.841Z"
   },
   {
    "duration": 5,
    "start_time": "2022-12-10T00:04:58.050Z"
   },
   {
    "duration": 10,
    "start_time": "2022-12-10T00:04:58.057Z"
   },
   {
    "duration": 321,
    "start_time": "2022-12-10T00:04:58.069Z"
   },
   {
    "duration": 36,
    "start_time": "2022-12-10T00:04:58.392Z"
   },
   {
    "duration": 162,
    "start_time": "2022-12-10T00:04:58.430Z"
   },
   {
    "duration": 32,
    "start_time": "2022-12-10T00:04:58.594Z"
   },
   {
    "duration": 12,
    "start_time": "2022-12-10T00:04:58.630Z"
   },
   {
    "duration": 10,
    "start_time": "2022-12-10T00:04:58.643Z"
   },
   {
    "duration": 11,
    "start_time": "2022-12-10T00:04:58.654Z"
   },
   {
    "duration": 51,
    "start_time": "2022-12-10T00:04:58.667Z"
   },
   {
    "duration": 21,
    "start_time": "2022-12-10T00:04:58.719Z"
   },
   {
    "duration": 8,
    "start_time": "2022-12-10T00:08:40.709Z"
   },
   {
    "duration": 1217,
    "start_time": "2022-12-10T00:09:05.932Z"
   },
   {
    "duration": 88,
    "start_time": "2022-12-10T00:09:07.151Z"
   },
   {
    "duration": 12,
    "start_time": "2022-12-10T00:09:07.241Z"
   },
   {
    "duration": 14,
    "start_time": "2022-12-10T00:09:07.255Z"
   },
   {
    "duration": 3,
    "start_time": "2022-12-10T00:09:07.270Z"
   },
   {
    "duration": 11,
    "start_time": "2022-12-10T00:09:07.275Z"
   },
   {
    "duration": 14,
    "start_time": "2022-12-10T00:09:07.288Z"
   },
   {
    "duration": 21,
    "start_time": "2022-12-10T00:09:07.313Z"
   },
   {
    "duration": 9,
    "start_time": "2022-12-10T00:09:07.335Z"
   },
   {
    "duration": 14,
    "start_time": "2022-12-10T00:09:07.346Z"
   },
   {
    "duration": 11,
    "start_time": "2022-12-10T00:09:07.362Z"
   },
   {
    "duration": 50,
    "start_time": "2022-12-10T00:09:07.375Z"
   },
   {
    "duration": 13,
    "start_time": "2022-12-10T00:09:07.430Z"
   },
   {
    "duration": 13,
    "start_time": "2022-12-10T00:09:07.444Z"
   },
   {
    "duration": 13,
    "start_time": "2022-12-10T00:09:07.459Z"
   },
   {
    "duration": 9,
    "start_time": "2022-12-10T00:09:07.474Z"
   },
   {
    "duration": 32,
    "start_time": "2022-12-10T00:09:07.484Z"
   },
   {
    "duration": 6,
    "start_time": "2022-12-10T00:09:07.519Z"
   },
   {
    "duration": 7,
    "start_time": "2022-12-10T00:09:07.529Z"
   },
   {
    "duration": 15,
    "start_time": "2022-12-10T00:09:07.538Z"
   },
   {
    "duration": 19,
    "start_time": "2022-12-10T00:09:07.555Z"
   },
   {
    "duration": 8,
    "start_time": "2022-12-10T00:09:07.576Z"
   },
   {
    "duration": 39,
    "start_time": "2022-12-10T00:09:07.586Z"
   },
   {
    "duration": 646,
    "start_time": "2022-12-10T00:09:07.627Z"
   },
   {
    "duration": 263,
    "start_time": "2022-12-10T00:09:08.274Z"
   },
   {
    "duration": 18,
    "start_time": "2022-12-10T00:09:08.540Z"
   },
   {
    "duration": 442,
    "start_time": "2022-12-10T00:09:08.560Z"
   },
   {
    "duration": 280,
    "start_time": "2022-12-10T00:09:09.012Z"
   },
   {
    "duration": 405,
    "start_time": "2022-12-10T00:09:09.294Z"
   },
   {
    "duration": 321,
    "start_time": "2022-12-10T00:09:09.701Z"
   },
   {
    "duration": 5,
    "start_time": "2022-12-10T00:09:10.023Z"
   },
   {
    "duration": 9,
    "start_time": "2022-12-10T00:09:10.030Z"
   },
   {
    "duration": 207,
    "start_time": "2022-12-10T00:09:10.040Z"
   },
   {
    "duration": 5,
    "start_time": "2022-12-10T00:09:10.250Z"
   },
   {
    "duration": 8,
    "start_time": "2022-12-10T00:09:10.256Z"
   },
   {
    "duration": 330,
    "start_time": "2022-12-10T00:09:10.266Z"
   },
   {
    "duration": 32,
    "start_time": "2022-12-10T00:09:10.597Z"
   },
   {
    "duration": 151,
    "start_time": "2022-12-10T00:09:10.631Z"
   },
   {
    "duration": 42,
    "start_time": "2022-12-10T00:09:10.784Z"
   },
   {
    "duration": 13,
    "start_time": "2022-12-10T00:09:10.827Z"
   },
   {
    "duration": 12,
    "start_time": "2022-12-10T00:09:10.841Z"
   },
   {
    "duration": 37,
    "start_time": "2022-12-10T00:09:10.854Z"
   },
   {
    "duration": 42,
    "start_time": "2022-12-10T00:09:10.892Z"
   },
   {
    "duration": 21,
    "start_time": "2022-12-10T00:09:10.937Z"
   },
   {
    "duration": 9,
    "start_time": "2022-12-10T00:10:17.945Z"
   },
   {
    "duration": 11,
    "start_time": "2022-12-10T00:10:33.354Z"
   },
   {
    "duration": 11,
    "start_time": "2022-12-10T00:10:41.960Z"
   },
   {
    "duration": 1361,
    "start_time": "2023-01-24T16:22:52.777Z"
   },
   {
    "duration": 208,
    "start_time": "2023-01-24T16:22:54.141Z"
   },
   {
    "duration": 17,
    "start_time": "2023-01-24T16:22:54.352Z"
   },
   {
    "duration": 28,
    "start_time": "2023-01-24T16:22:54.372Z"
   },
   {
    "duration": 13,
    "start_time": "2023-01-24T16:22:54.402Z"
   },
   {
    "duration": 41,
    "start_time": "2023-01-24T16:22:54.417Z"
   },
   {
    "duration": 8,
    "start_time": "2023-01-24T16:22:54.460Z"
   },
   {
    "duration": 14,
    "start_time": "2023-01-24T16:22:54.470Z"
   },
   {
    "duration": 12,
    "start_time": "2023-01-24T16:22:54.486Z"
   },
   {
    "duration": 10,
    "start_time": "2023-01-24T16:22:54.501Z"
   },
   {
    "duration": 6,
    "start_time": "2023-01-24T16:22:54.513Z"
   },
   {
    "duration": 30,
    "start_time": "2023-01-24T16:22:54.521Z"
   },
   {
    "duration": 12,
    "start_time": "2023-01-24T16:22:54.553Z"
   },
   {
    "duration": 9,
    "start_time": "2023-01-24T16:22:54.567Z"
   },
   {
    "duration": 9,
    "start_time": "2023-01-24T16:22:54.592Z"
   },
   {
    "duration": 10,
    "start_time": "2023-01-24T16:22:54.603Z"
   },
   {
    "duration": 6,
    "start_time": "2023-01-24T16:22:54.614Z"
   },
   {
    "duration": 11,
    "start_time": "2023-01-24T16:22:54.622Z"
   },
   {
    "duration": 5,
    "start_time": "2023-01-24T16:22:54.635Z"
   },
   {
    "duration": 14,
    "start_time": "2023-01-24T16:22:54.641Z"
   },
   {
    "duration": 10,
    "start_time": "2023-01-24T16:22:54.693Z"
   },
   {
    "duration": 14,
    "start_time": "2023-01-24T16:22:54.705Z"
   },
   {
    "duration": 14,
    "start_time": "2023-01-24T16:22:54.721Z"
   },
   {
    "duration": 587,
    "start_time": "2023-01-24T16:22:54.737Z"
   },
   {
    "duration": 250,
    "start_time": "2023-01-24T16:22:55.326Z"
   },
   {
    "duration": 19,
    "start_time": "2023-01-24T16:22:55.579Z"
   },
   {
    "duration": 370,
    "start_time": "2023-01-24T16:22:55.600Z"
   },
   {
    "duration": 274,
    "start_time": "2023-01-24T16:22:55.975Z"
   },
   {
    "duration": 360,
    "start_time": "2023-01-24T16:22:56.251Z"
   },
   {
    "duration": 308,
    "start_time": "2023-01-24T16:22:56.613Z"
   },
   {
    "duration": 5,
    "start_time": "2023-01-24T16:22:56.923Z"
   },
   {
    "duration": 7,
    "start_time": "2023-01-24T16:22:56.929Z"
   },
   {
    "duration": 197,
    "start_time": "2023-01-24T16:22:56.937Z"
   },
   {
    "duration": 4,
    "start_time": "2023-01-24T16:22:57.136Z"
   },
   {
    "duration": 7,
    "start_time": "2023-01-24T16:22:57.142Z"
   },
   {
    "duration": 285,
    "start_time": "2023-01-24T16:22:57.151Z"
   },
   {
    "duration": 26,
    "start_time": "2023-01-24T16:22:57.438Z"
   },
   {
    "duration": 137,
    "start_time": "2023-01-24T16:22:57.467Z"
   },
   {
    "duration": 24,
    "start_time": "2023-01-24T16:22:57.606Z"
   },
   {
    "duration": 11,
    "start_time": "2023-01-24T16:22:57.632Z"
   },
   {
    "duration": 10,
    "start_time": "2023-01-24T16:22:57.646Z"
   },
   {
    "duration": 36,
    "start_time": "2023-01-24T16:22:57.657Z"
   },
   {
    "duration": 23,
    "start_time": "2023-01-24T16:22:57.695Z"
   },
   {
    "duration": 17,
    "start_time": "2023-01-24T16:22:57.719Z"
   }
  ],
  "kernelspec": {
   "display_name": "Python 3 (ipykernel)",
   "language": "python",
   "name": "python3"
  },
  "language_info": {
   "codemirror_mode": {
    "name": "ipython",
    "version": 3
   },
   "file_extension": ".py",
   "mimetype": "text/x-python",
   "name": "python",
   "nbconvert_exporter": "python",
   "pygments_lexer": "ipython3",
   "version": "3.9.13"
  },
  "toc": {
   "base_numbering": 1,
   "nav_menu": {},
   "number_sections": true,
   "sideBar": true,
   "skip_h1_title": true,
   "title_cell": "Table of Contents",
   "title_sidebar": "Contents",
   "toc_cell": false,
   "toc_position": {},
   "toc_section_display": true,
   "toc_window_display": false
  }
 },
 "nbformat": 4,
 "nbformat_minor": 2
}
